{
  "nbformat": 4,
  "nbformat_minor": 0,
  "metadata": {
    "colab": {
      "name": "Copy of 25GBRAM.ipynb",
      "provenance": [],
      "collapsed_sections": [],
      "toc_visible": true,
      "machine_shape": "hm"
    },
    "kernelspec": {
      "name": "python3",
      "display_name": "Python 3"
    },
    "accelerator": "GPU"
  },
  "cells": [
    {
      "cell_type": "code",
      "metadata": {
        "id": "BYTNNYdstxqH",
        "colab": {
          "base_uri": "https://localhost:8080/"
        },
        "outputId": "105c1b61-635a-495a-81ee-611495cb0405"
      },
      "source": [
        "import numpy\r\n",
        "from tqdm import tqdm\r\n",
        "!pip install Unidecode\r\n",
        "import unidecode\r\n",
        "import numpy as np"
      ],
      "execution_count": null,
      "outputs": [
        {
          "output_type": "stream",
          "text": [
            "Requirement already satisfied: Unidecode in /usr/local/lib/python3.6/dist-packages (1.1.2)\n"
          ],
          "name": "stdout"
        }
      ]
    },
    {
      "cell_type": "code",
      "metadata": {
        "colab": {
          "base_uri": "https://localhost:8080/"
        },
        "id": "b5P1U1kpn1LV",
        "outputId": "047c4e68-8714-42be-96de-de7ddebed6bd"
      },
      "source": [
        "from google.colab import drive\n",
        "drive.mount('/content/drive')"
      ],
      "execution_count": null,
      "outputs": [
        {
          "output_type": "stream",
          "text": [
            "Drive already mounted at /content/drive; to attempt to forcibly remount, call drive.mount(\"/content/drive\", force_remount=True).\n"
          ],
          "name": "stdout"
        }
      ]
    },
    {
      "cell_type": "code",
      "metadata": {
        "id": "F8N1L-mp90x8"
      },
      "source": [
        "!wget 'https://github.com/morfologik/polimorfologik/releases/download/2.1/polimorfologik-2.1.zip'\r\n",
        "!unzip '/content/polimorfologik-2.1.zip'\r\n",
        "!unzip '/content/drive/MyDrive/Colab Notebooks/NLP/Dane/Copy of polish_corpora.zip'\r\n",
        "!wget 'http://zil.ipipan.waw.pl/NKJPNGrams?action=AttachFile&do=get&target=2grams.gz'\r\n",
        "!gunzip '/content/NKJPNGrams?action=AttachFile&do=get&target=2grams.gz'\r\n",
        "!wget 'http://zil.ipipan.waw.pl/NKJPNGrams?action=AttachFile&do=get&target=1grams.gz'\r\n",
        "!gunzip '/content/NKJPNGrams?action=AttachFile&do=get&target=1grams.gz'"
      ],
      "execution_count": null,
      "outputs": []
    },
    {
      "cell_type": "code",
      "metadata": {
        "colab": {
          "base_uri": "https://localhost:8080/"
        },
        "id": "1YalJliN8YcW",
        "outputId": "e1035117-6bad-46a2-aa6e-4dfe8d78c80f"
      },
      "source": [
        "!unzip '/content/drive/MyDrive/Colab Notebooks/NLP/Dane/Copy of polish_corpora.zip'"
      ],
      "execution_count": null,
      "outputs": [
        {
          "output_type": "stream",
          "text": [
            "Archive:  /content/drive/MyDrive/Colab Notebooks/NLP/Dane/Copy of polish_corpora.zip\n",
            "  inflating: polish_corpora.txt      \n"
          ],
          "name": "stdout"
        }
      ]
    },
    {
      "cell_type": "markdown",
      "metadata": {
        "id": "nPRcSZ1GnqGo"
      },
      "source": [
        "# Loading data for uppercase correction "
      ]
    },
    {
      "cell_type": "code",
      "metadata": {
        "id": "EWHsaPW6uAE4"
      },
      "source": [
        "BL_uni = set({})\r\n",
        "\r\n",
        "for line in open('/content/polimorfologik-2.1.txt', 'r'):\r\n",
        "    word = line.split(';')[1]\r\n",
        "    if word[0] == word[0].upper():\r\n",
        "        BL_uni.add(word.lower())\r\n",
        "    if word[0] == word[0].lower() and word.lower() in BL_uni:\r\n",
        "        BL_uni.remove(word.lower())"
      ],
      "execution_count": null,
      "outputs": []
    },
    {
      "cell_type": "code",
      "metadata": {
        "id": "eqh_JHzGLlYm"
      },
      "source": [
        "BL_bi = set({})\r\n",
        "\r\n",
        "def isalphapolish(word):\r\n",
        "    alphabet = 'pchnąćwtęłódźjeżalubośmskrzyńfig'\r\n",
        "    for letter in word.lower():\r\n",
        "        if letter not in alphabet:\r\n",
        "            return False\r\n",
        "    return True\r\n",
        "\r\n",
        "for line_num, line in enumerate(open('/content/polish_corpora.txt','r')):\r\n",
        "    if line_num == 1000000: break\r\n",
        "    line = line.split()\r\n",
        "    counter = 1\r\n",
        "    while counter < len(line)-1:\r\n",
        "        word_1 = line[counter]\r\n",
        "        word_2 = line[counter+1]\r\n",
        "\r\n",
        "        if word_1[0] == word_1[0].upper() and word_2[0] == word_2[0].upper():\r\n",
        "            BL_bi.add((word_1.lower(),word_2.lower()))\r\n",
        "\r\n",
        "        if (word_1[0] == word_1[0].lower() and word_2[0] == word_2[0].lower() and (word_1.lower(), word_2.lower()) in BL_bi):\r\n",
        "            BL_bi.remove((word_1.lower(), word_2.lower()))\r\n",
        "\r\n",
        "        counter += 1"
      ],
      "execution_count": null,
      "outputs": []
    },
    {
      "cell_type": "markdown",
      "metadata": {
        "id": "rXHPtOEVnt-5"
      },
      "source": [
        "# Loading data for diacritic letter correction"
      ]
    },
    {
      "cell_type": "code",
      "metadata": {
        "id": "8wypcMqgquSN"
      },
      "source": [
        "import unidecode"
      ],
      "execution_count": null,
      "outputs": []
    },
    {
      "cell_type": "code",
      "metadata": {
        "id": "ulDNDdYiqgH-"
      },
      "source": [
        "words = set({})\r\n",
        "\r\n",
        "for i, line in enumerate(open('/content/polish_corpora.txt', 'r')):\r\n",
        "    if i < 1000000: continue\r\n",
        "    for word in line.split():\r\n",
        "        words.add(unidecode.unidecode(word.lower()))\r\n",
        "    if i == 1200000:\r\n",
        "        break"
      ],
      "execution_count": null,
      "outputs": []
    },
    {
      "cell_type": "code",
      "metadata": {
        "colab": {
          "base_uri": "https://localhost:8080/"
        },
        "id": "1PddlTXqnj7o",
        "outputId": "83f4c4d0-5bc1-45ed-e1d8-91b2582b6877"
      },
      "source": [
        "bigrams = {}\r\n",
        "\r\n",
        "for i, line in tqdm(enumerate(open('/content/NKJPNGrams?action=AttachFile&do=get&target=2grams','r'))):\r\n",
        "    oc, w1, w2 = line.split()\r\n",
        "    w1_de = unidecode.unidecode(w1)\r\n",
        "    w2_de = unidecode.unidecode(w2)\r\n",
        "\r\n",
        "    if w1_de in words or w2_de in words:\r\n",
        "        key = (w1_de, w2_de)\r\n",
        "        if key in bigrams.keys():\r\n",
        "            bigrams[key].append(((w1,w2),oc))\r\n",
        "        else:\r\n",
        "            bigrams[key] = [((w1,w2),oc)]\r\n",
        "    \r\n",
        "    if i >= 50000000: break\r\n",
        "    \r\n"
      ],
      "execution_count": null,
      "outputs": [
        {
          "output_type": "stream",
          "text": [
            "49985181it [05:46, 151194.84it/s]"
          ],
          "name": "stderr"
        }
      ]
    },
    {
      "cell_type": "code",
      "metadata": {
        "id": "NKwVxDqxyqJz"
      },
      "source": [
        "unigrams = {}\r\n",
        "\r\n",
        "for i, line in tqdm(enumerate(open('/content/NKJPNGrams?action=AttachFile&do=get&target=1grams','r'))):\r\n",
        "    oc, w1 = line.split()\r\n",
        "    w1_de = unidecode.unidecode(w1)\r\n",
        "\r\n",
        "    if w1_de in words:\r\n",
        "        key = w1_de\r\n",
        "        if key in unigrams.keys():\r\n",
        "            unigrams[key].append((w1,oc))\r\n",
        "        else:\r\n",
        "            unigrams[key] = [(w1,oc)]"
      ],
      "execution_count": null,
      "outputs": []
    },
    {
      "cell_type": "markdown",
      "metadata": {
        "id": "j5biSUx4ny8h"
      },
      "source": [
        "## Uppercase letter correction"
      ]
    },
    {
      "cell_type": "code",
      "metadata": {
        "id": "TwN3CStonmAe"
      },
      "source": [
        "def correct_lowercase_sen_with_bigrams(test):\r\n",
        "    i = 0\r\n",
        "    test[0] = test[0].capitalize()\r\n",
        "    while i < len(test) - 1:\r\n",
        "\r\n",
        "        if (test[i].lower(), test[i+1].lower()) in BL_bi:\r\n",
        "            test[i] = test[i].capitalize()\r\n",
        "            test[i+1] = test[i+1].capitalize()\r\n",
        "        else:\r\n",
        "            if test[i].lower() in BL_uni:\r\n",
        "                test[i] = test[i].capitalize()\r\n",
        "        \r\n",
        "        i+=1\r\n",
        "    \r\n",
        "    if test[i] in BL_uni:\r\n",
        "        test[i] = test[i].capitalize()\r\n",
        "\r\n",
        "    return test"
      ],
      "execution_count": null,
      "outputs": []
    },
    {
      "cell_type": "markdown",
      "metadata": {
        "id": "TR9lSzKo0Z_i"
      },
      "source": [
        "# Diacritic letter correction"
      ]
    },
    {
      "cell_type": "code",
      "metadata": {
        "id": "_jM70yP66YNG"
      },
      "source": [
        "def choose_word_softmax(words):\r\n",
        "\r\n",
        "    occurrences = np.array([word[1] for word in words], dtype=np.float64)\r\n",
        "\r\n",
        "    occurrences = occurrences / np.sum(occurrences)\r\n",
        "\r\n",
        "    number_of_words = len(words)\r\n",
        "    probs = occurrences\r\n",
        "    word_idx = np.random.choice(number_of_words , size = 1, p = probs)[0]\r\n",
        "\r\n",
        "    return words[word_idx][0]"
      ],
      "execution_count": null,
      "outputs": []
    },
    {
      "cell_type": "code",
      "metadata": {
        "id": "s0_Y9p7T19uf"
      },
      "source": [
        "def correct_diacritic_sen_with_bigrams(test):\r\n",
        "\r\n",
        "\r\n",
        "    res = []\r\n",
        "\r\n",
        "    if (test[0], test[1]) in bigrams.keys():\r\n",
        "        word_1, word_2 = choose_word_softmax(bigrams[(test[0], test[1])])\r\n",
        "        res.append(word_1)\r\n",
        "        res.append(word_2)\r\n",
        "    elif (test[0]) in unigrams.keys():\r\n",
        "        word_1 = choose_word_softmax(unigrams[test[0]])\r\n",
        "        res.append(word_1)\r\n",
        "    else:\r\n",
        "        res.append(test[0])\r\n",
        "\r\n",
        "        \r\n",
        "    while len(res) <= len(test) - 1:\r\n",
        "\r\n",
        "        last_cor = res[-1]\r\n",
        "        bi_scd = test[len(res)] \r\n",
        "        bi_first = test[len(res) - 1]\r\n",
        "\r\n",
        "        if (bi_first, bi_scd) in bigrams.keys():\r\n",
        "\r\n",
        "            words = [((bigram[0], bigram[1]), oc) for bigram, oc in bigrams[(bi_first, bi_scd)] if bigram[0] == last_cor]\r\n",
        "            if len(words) == 0:\r\n",
        "                if (bi_scd) in unigrams.keys():\r\n",
        "                    word_1 = choose_word_softmax(unigrams[bi_scd])\r\n",
        "                    res.append(word_1)\r\n",
        "            else:\r\n",
        "                word_1, word_2 = choose_word_softmax(words)\r\n",
        "                res.append(word_2)\r\n",
        "\r\n",
        "        elif (bi_scd) in unigrams.keys():\r\n",
        "            word_1 = choose_word_softmax(unigrams[bi_scd])\r\n",
        "            res.append(word_1)\r\n",
        "\r\n",
        "        else:\r\n",
        "            res.append(test[len(res)])\r\n",
        "    \r\n",
        "    return res\r\n"
      ],
      "execution_count": null,
      "outputs": []
    },
    {
      "cell_type": "markdown",
      "metadata": {
        "id": "yvZESoQ40gqF"
      },
      "source": [
        "# TEST"
      ]
    },
    {
      "cell_type": "code",
      "metadata": {
        "id": "m6Be2r0VvqbJ"
      },
      "source": [
        "def acc(target, label):\r\n",
        "    res = 0\r\n",
        "\r\n",
        "    for w_label, w_target in zip(label, target):\r\n",
        "        if w_label == w_target:\r\n",
        "            res += 1\r\n",
        "            \r\n",
        "    return res/len(label)"
      ],
      "execution_count": null,
      "outputs": []
    },
    {
      "cell_type": "code",
      "metadata": {
        "id": "aPgIg70r1YHC"
      },
      "source": [
        "res_1 = 0\r\n",
        "res_2 = 0\r\n",
        "\r\n",
        "counter = 0\r\n",
        "for i, line in enumerate(open('/content/polish_corpora.txt', 'r')):\r\n",
        "    if i < 1000000: continue\r\n",
        "\r\n",
        "    label_diacritic = line.lower().split()\r\n",
        "    label_full = line.split()\r\n",
        "\r\n",
        "    target = unidecode.unidecode(line).lower().split()\r\n",
        "\r\n",
        "    cor_dia = correct_diacritic_sen_with_bigrams(target)\r\n",
        "    res_1 += acc(cor_dia, label_diacritic)\r\n",
        "\r\n",
        "    cor_full = correct_lowercase_sen_with_bigrams(cor_dia)\r\n",
        "\r\n",
        "    res_2 += acc(cor_full, label_full)\r\n",
        "    counter += 1\r\n",
        "\r\n",
        "    if i == 1200000:\r\n",
        "        break"
      ],
      "execution_count": null,
      "outputs": []
    },
    {
      "cell_type": "code",
      "metadata": {
        "colab": {
          "base_uri": "https://localhost:8080/"
        },
        "id": "Kxi95nC2J1Ew",
        "outputId": "c8c3948b-e0d3-4743-cc18-fc3425c7a4de"
      },
      "source": [
        "res_1/counter"
      ],
      "execution_count": null,
      "outputs": [
        {
          "output_type": "execute_result",
          "data": {
            "text/plain": [
              "0.978992170823962"
            ]
          },
          "metadata": {
            "tags": []
          },
          "execution_count": 34
        }
      ]
    },
    {
      "cell_type": "code",
      "metadata": {
        "colab": {
          "base_uri": "https://localhost:8080/"
        },
        "id": "i8CosA8tOA0M",
        "outputId": "84134dbf-5b5d-49aa-91eb-0d7e5c06a469"
      },
      "source": [
        "res_2/counter"
      ],
      "execution_count": null,
      "outputs": [
        {
          "output_type": "execute_result",
          "data": {
            "text/plain": [
              "0.933766306780607"
            ]
          },
          "metadata": {
            "tags": []
          },
          "execution_count": 35
        }
      ]
    },
    {
      "cell_type": "code",
      "metadata": {
        "colab": {
          "base_uri": "https://localhost:8080/"
        },
        "id": "pXb1iq9tOCDu",
        "outputId": "6f033d04-80c1-4a26-c32c-052000abe409"
      },
      "source": [
        "((res_1/counter)*(res_2/counter))**(1/2)"
      ],
      "execution_count": null,
      "outputs": [
        {
          "output_type": "execute_result",
          "data": {
            "text/plain": [
              "0.9561118677840058"
            ]
          },
          "metadata": {
            "tags": []
          },
          "execution_count": 37
        }
      ]
    }
  ]
}