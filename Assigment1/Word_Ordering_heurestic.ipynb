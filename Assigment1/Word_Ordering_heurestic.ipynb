{
  "nbformat": 4,
  "nbformat_minor": 0,
  "metadata": {
    "colab": {
      "name": "Word Ordering.ipynb",
      "provenance": []
    },
    "kernelspec": {
      "name": "python3",
      "display_name": "Python 3"
    }
  },
  "cells": [
    {
      "cell_type": "code",
      "metadata": {
        "id": "CJcydh18oKxH"
      },
      "source": [
        "import numpy as np\n",
        "from itertools import permutations"
      ],
      "execution_count": 24,
      "outputs": []
    },
    {
      "cell_type": "code",
      "metadata": {
        "id": "ZOCeHveloed6"
      },
      "source": [
        "def load_corpus_three_gram(path, words):\n",
        "    file = open(path, \"r\")\n",
        "    three_grams = {}\n",
        "    \n",
        "    for line in file:\n",
        "        \n",
        "        line = line.split(\" \")\n",
        "        if len(line) != 4: continue\n",
        "        oc_number, word_1, word_2, word_3 = line\n",
        "\n",
        "        if word_3[-1:] == '\\n':\n",
        "            word_3 = word_3[:-1]\n",
        "\n",
        "        if word_1 in words or word_2 in words or word_3 in words:\n",
        "\n",
        "            key = (word_1, word_2, word_3)\n",
        "            three_grams[key] = oc_number\n",
        "\n",
        "        \n",
        "    file.close()\n",
        "    return three_grams"
      ],
      "execution_count": 25,
      "outputs": []
    },
    {
      "cell_type": "code",
      "metadata": {
        "id": "dmEiqQPjorQ0"
      },
      "source": [
        "def load_corpus_two_gram(path, words):\n",
        "    file = open(path, \"r\")\n",
        "    two_grams = {}\n",
        "    \n",
        "    for line in file:\n",
        "\n",
        "        oc_number, word_1, word_2 = line.split(\" \")\n",
        "\n",
        "        #if int(oc_number) == 1: break\n",
        "\n",
        "        if word_2[-1:] == '\\n':\n",
        "            word_2 = word_2[:-1]\n",
        "        \n",
        "        if word_1 in words or word_2 in words:\n",
        "\n",
        "            key = (word_1, word_2)\n",
        "            two_grams[key] = oc_number\n",
        "\n",
        "    file.close()\n",
        "    return two_grams"
      ],
      "execution_count": 26,
      "outputs": []
    },
    {
      "cell_type": "code",
      "metadata": {
        "id": "h3Xzy4GkFRUs"
      },
      "source": [
        "sen1 = 'Judyta dała wczoraj Stefanowi czekoladki'.lower().split()\n",
        "sen2 = 'Babuleńka miała dwa rogate koziołki'.lower().split()\n",
        "sen3 = 'Wczoraj wieczorem spotkałem pewną piękną kobietę'.lower().split()\n",
        "sen4 = 'Ala mówi do kota o pieskach'.lower().split()\n",
        "sen5 = 'Franek je kanapke z serem'.lower().split()\n",
        "sen6 = 'Wczoraj miałem okropny dzień'.lower().split()\n",
        "sen7 = 'Miałem 7 lat kiedy dostałem telefon'.lower().split()"
      ],
      "execution_count": 27,
      "outputs": []
    },
    {
      "cell_type": "code",
      "metadata": {
        "id": "rZiHN6KNNpB_"
      },
      "source": [
        "words = sen1 + sen2 + sen3 + sen4 + sen5 + sen6 + sen7"
      ],
      "execution_count": 28,
      "outputs": []
    },
    {
      "cell_type": "code",
      "metadata": {
        "id": "_trB9M3Bov8a"
      },
      "source": [
        "two_grams = load_corpus_two_gram('/content/poleval_2grams.txt', words)\n",
        "three_grams = load_corpus_three_gram('/content/poleval_3grams.txt', words)"
      ],
      "execution_count": 29,
      "outputs": []
    },
    {
      "cell_type": "code",
      "metadata": {
        "id": "iqmMRsQOpieZ"
      },
      "source": [
        "def check_sen(sen, two_grams, three_grams):\n",
        "\n",
        "    iter_two = 0\n",
        "    good_two = 0\n",
        "\n",
        "    while iter_two < len(sen) - 1:\n",
        "\n",
        "        key = (sen[iter_two], sen[iter_two+1])\n",
        "        if key in two_grams.keys():\n",
        "                good_two += 0.5 * int(two_grams[key])\n",
        "\n",
        "        iter_two +=1\n",
        "\n",
        "\n",
        "    iter_three = 0\n",
        "    good_three = 0\n",
        "\n",
        "    while iter_three < len(sen) - 2:\n",
        "\n",
        "        key = (sen[iter_three], sen[iter_three+1], sen[iter_three+2])\n",
        "        if key in three_grams:\n",
        "            good_three += int(three_grams[key])\n",
        "\n",
        "        iter_three +=1\n",
        "\n",
        "\n",
        "    return good_two + good_three"
      ],
      "execution_count": 39,
      "outputs": []
    },
    {
      "cell_type": "code",
      "metadata": {
        "id": "b8x86QTYyY_y"
      },
      "source": [
        "def test_permutations(sen1):\n",
        "\n",
        "    res = []\n",
        "    perms = list(permutations(sen1))\n",
        "\n",
        "    for sen in perms:\n",
        "        res.append(check_sen(sen, two_grams, three_grams))\n",
        "\n",
        "    return np.array(res), np.array(perms)"
      ],
      "execution_count": 40,
      "outputs": []
    },
    {
      "cell_type": "code",
      "metadata": {
        "id": "CcRRh7IgzEka",
        "outputId": "6071ee70-46ae-4cd7-b782-3a425a3983fd",
        "colab": {
          "base_uri": "https://localhost:8080/",
          "height": 119
        }
      },
      "source": [
        "res, perms = test_permutations(sen1)\n",
        "\n",
        "best = np.argsort(res)[::-1]\n",
        "print(\"1 order: {} | Points: {}\".format(\" \".join(perms[best[0]]), res[best[0]]))\n",
        "print(\"2 order: {} | Points: {}\".format(\" \".join(perms[best[1]]), res[best[0]]))\n",
        "print(\"3 order: {} | Points: {}\".format(\" \".join(perms[best[2]]), res[best[0]]))\n",
        "print(\"4 order: {} | Points: {}\".format(\" \".join(perms[best[3]]), res[best[0]]))\n",
        "print(\"5 order: {} | Points: {}\".format(\" \".join(perms[best[4]]), res[best[0]]))\n",
        "print(\"True Order: {}\".format(\" \".join(sen1)))"
      ],
      "execution_count": 41,
      "outputs": [
        {
          "output_type": "stream",
          "text": [
            "1 order: judyta dała wczoraj stefanowi czekoladki | Points: 1.0\n",
            "2 order: czekoladki dała wczoraj judyta stefanowi | Points: 1.0\n",
            "3 order: stefanowi judyta czekoladki dała wczoraj | Points: 1.0\n",
            "4 order: stefanowi judyta dała wczoraj czekoladki | Points: 1.0\n",
            "5 order: stefanowi czekoladki judyta dała wczoraj | Points: 1.0\n",
            "True Order: judyta dała wczoraj stefanowi czekoladki\n"
          ],
          "name": "stdout"
        }
      ]
    },
    {
      "cell_type": "code",
      "metadata": {
        "id": "JPUcHhdZ0vod",
        "outputId": "bd0835a4-981f-49a9-ea7c-4e2c02b39204",
        "colab": {
          "base_uri": "https://localhost:8080/",
          "height": 119
        }
      },
      "source": [
        "res, perms = test_permutations(sen2)\n",
        "\n",
        "best = np.argsort(res)[::-1]\n",
        "print(\"1 order: {} | Points: {}\".format(\" \".join(perms[best[0]]), res[best[0]]))\n",
        "print(\"2 order: {} | Points: {}\".format(\" \".join(perms[best[1]]), res[best[0]]))\n",
        "print(\"3 order: {} | Points: {}\".format(\" \".join(perms[best[2]]), res[best[0]]))\n",
        "print(\"4 order: {} | Points: {}\".format(\" \".join(perms[best[3]]), res[best[0]]))\n",
        "print(\"5 order: {} | Points: {}\".format(\" \".join(perms[best[4]]), res[best[0]]))\n",
        "print(\"True Order: {}\".format(\" \".join(sen2)))"
      ],
      "execution_count": 42,
      "outputs": [
        {
          "output_type": "stream",
          "text": [
            "1 order: rogate miała dwa koziołki babuleńka | Points: 92.0\n",
            "2 order: miała dwa koziołki rogate babuleńka | Points: 92.0\n",
            "3 order: babuleńka miała dwa koziołki rogate | Points: 92.0\n",
            "4 order: miała dwa koziołki babuleńka rogate | Points: 92.0\n",
            "5 order: rogate babuleńka miała dwa koziołki | Points: 92.0\n",
            "True Order: babuleńka miała dwa rogate koziołki\n"
          ],
          "name": "stdout"
        }
      ]
    },
    {
      "cell_type": "code",
      "metadata": {
        "id": "Dmy-tV3Fg3Y8",
        "outputId": "4537a7e8-9b3d-4909-fc94-b5a431cb0ec5",
        "colab": {
          "base_uri": "https://localhost:8080/",
          "height": 119
        }
      },
      "source": [
        "res, perms = test_permutations(sen3)\n",
        "\n",
        "best = np.argsort(res)[::-1]\n",
        "print(\"1 order: {} | Points: {}\".format(\" \".join(perms[best[0]]), res[best[0]]))\n",
        "print(\"2 order: {} | Points: {}\".format(\" \".join(perms[best[1]]), res[best[0]]))\n",
        "print(\"3 order: {} | Points: {}\".format(\" \".join(perms[best[2]]), res[best[0]]))\n",
        "print(\"4 order: {} | Points: {}\".format(\" \".join(perms[best[3]]), res[best[0]]))\n",
        "print(\"5 order: {} | Points: {}\".format(\" \".join(perms[best[4]]), res[best[0]]))\n",
        "print(\"True Order: {}\".format(\" \".join(sen3)))"
      ],
      "execution_count": 43,
      "outputs": [
        {
          "output_type": "stream",
          "text": [
            "1 order: pewną piękną kobietę spotkałem wczoraj wieczorem | Points: 228.0\n",
            "2 order: spotkałem wczoraj wieczorem pewną piękną kobietę | Points: 228.0\n",
            "3 order: spotkałem pewną piękną kobietę wczoraj wieczorem | Points: 228.0\n",
            "4 order: wczoraj wieczorem spotkałem pewną piękną kobietę | Points: 228.0\n",
            "5 order: pewną piękną kobietę wczoraj wieczorem spotkałem | Points: 228.0\n",
            "True Order: wczoraj wieczorem spotkałem pewną piękną kobietę\n"
          ],
          "name": "stdout"
        }
      ]
    },
    {
      "cell_type": "code",
      "metadata": {
        "id": "KkyjPwcQg30f",
        "outputId": "cfbb517e-295b-401c-8560-e539a1f03991",
        "colab": {
          "base_uri": "https://localhost:8080/",
          "height": 119
        }
      },
      "source": [
        "res, perms = test_permutations(sen4)\n",
        "\n",
        "best = np.argsort(res)[::-1]\n",
        "print(\"1 order: {} | Points: {}\".format(\" \".join(perms[best[0]]), res[best[0]]))\n",
        "print(\"2 order: {} | Points: {}\".format(\" \".join(perms[best[1]]), res[best[0]]))\n",
        "print(\"3 order: {} | Points: {}\".format(\" \".join(perms[best[2]]), res[best[0]]))\n",
        "print(\"4 order: {} | Points: {}\".format(\" \".join(perms[best[3]]), res[best[0]]))\n",
        "print(\"5 order: {} | Points: {}\".format(\" \".join(perms[best[4]]), res[best[0]]))\n",
        "print(\"True Order: {}\".format(\" \".join(sen4)))"
      ],
      "execution_count": 44,
      "outputs": [
        {
          "output_type": "stream",
          "text": [
            "1 order: ala mówi o do kota pieskach | Points: 6177.5\n",
            "2 order: pieskach ala mówi o do kota | Points: 6177.5\n",
            "3 order: ala pieskach mówi o do kota | Points: 6177.5\n",
            "4 order: mówi o do kota pieskach ala | Points: 6177.5\n",
            "5 order: mówi o do kota ala pieskach | Points: 6177.5\n",
            "True Order: ala mówi do kota o pieskach\n"
          ],
          "name": "stdout"
        }
      ]
    },
    {
      "cell_type": "code",
      "metadata": {
        "id": "d_x81EDqg4Ec",
        "outputId": "2638de38-22a4-4dd2-d90a-5a6a45879151",
        "colab": {
          "base_uri": "https://localhost:8080/",
          "height": 119
        }
      },
      "source": [
        "res, perms = test_permutations(sen5)\n",
        "\n",
        "best = np.argsort(res)[::-1]\n",
        "print(\"1 order: {} | Points: {}\".format(\" \".join(perms[best[0]]), res[best[0]]))\n",
        "print(\"2 order: {} | Points: {}\".format(\" \".join(perms[best[1]]), res[best[0]]))\n",
        "print(\"3 order: {} | Points: {}\".format(\" \".join(perms[best[2]]), res[best[0]]))\n",
        "print(\"4 order: {} | Points: {}\".format(\" \".join(perms[best[3]]), res[best[0]]))\n",
        "print(\"5 order: {} | Points: {}\".format(\" \".join(perms[best[4]]), res[best[0]]))\n",
        "print(\"True Order: {}\".format(\" \".join(sen5)))"
      ],
      "execution_count": 45,
      "outputs": [
        {
          "output_type": "stream",
          "text": [
            "1 order: kanapke franek je z serem | Points: 1923.5\n",
            "2 order: franek je z serem kanapke | Points: 1923.5\n",
            "3 order: je z serem kanapke franek | Points: 1923.5\n",
            "4 order: kanapke je z serem franek | Points: 1923.5\n",
            "5 order: franek kanapke je z serem | Points: 1923.5\n",
            "True Order: franek je kanapke z serem\n"
          ],
          "name": "stdout"
        }
      ]
    },
    {
      "cell_type": "code",
      "metadata": {
        "id": "YgUmztRDjmWF",
        "outputId": "4fde131c-333f-4521-f029-7dd13d21aa66",
        "colab": {
          "base_uri": "https://localhost:8080/",
          "height": 119
        }
      },
      "source": [
        "res, perms = test_permutations(sen6)\n",
        "\n",
        "best = np.argsort(res)[::-1]\n",
        "print(\"1 order: {} | Points: {}\".format(\" \".join(perms[best[0]]), res[best[0]]))\n",
        "print(\"2 order: {} | Points: {}\".format(\" \".join(perms[best[1]]), res[best[0]]))\n",
        "print(\"3 order: {} | Points: {}\".format(\" \".join(perms[best[2]]), res[best[0]]))\n",
        "print(\"4 order: {} | Points: {}\".format(\" \".join(perms[best[3]]), res[best[0]]))\n",
        "print(\"5 order: {} | Points: {}\".format(\" \".join(perms[best[4]]), res[best[0]]))\n",
        "print(\"True Order: {}\".format(\" \".join(sen6)))"
      ],
      "execution_count": 46,
      "outputs": [
        {
          "output_type": "stream",
          "text": [
            "1 order: okropny dzień wczoraj miałem | Points: 24.5\n",
            "2 order: okropny wczoraj miałem dzień | Points: 24.5\n",
            "3 order: wczoraj miałem dzień okropny | Points: 24.5\n",
            "4 order: dzień wczoraj miałem okropny | Points: 24.5\n",
            "5 order: wczoraj miałem okropny dzień | Points: 24.5\n",
            "True Order: wczoraj miałem okropny dzień\n"
          ],
          "name": "stdout"
        }
      ]
    },
    {
      "cell_type": "code",
      "metadata": {
        "id": "6c7RrLwwlLoD",
        "outputId": "45938160-ccae-453b-cbb7-41eac4be6bf0",
        "colab": {
          "base_uri": "https://localhost:8080/",
          "height": 119
        }
      },
      "source": [
        "res, perms = test_permutations(sen7)\n",
        "\n",
        "best = np.argsort(res)[::-1]\n",
        "print(\"1 order: {} | Points: {}\".format(\" \".join(perms[best[0]]), res[best[0]]))\n",
        "print(\"2 order: {} | Points: {}\".format(\" \".join(perms[best[1]]), res[best[0]]))\n",
        "print(\"3 order: {} | Points: {}\".format(\" \".join(perms[best[2]]), res[best[0]]))\n",
        "print(\"4 order: {} | Points: {}\".format(\" \".join(perms[best[3]]), res[best[0]]))\n",
        "print(\"5 order: {} | Points: {}\".format(\" \".join(perms[best[4]]), res[best[0]]))\n",
        "print(\"True Order: {}\".format(\" \".join(sen7)))"
      ],
      "execution_count": 47,
      "outputs": [
        {
          "output_type": "stream",
          "text": [
            "1 order: 7 lat kiedy miałem dostałem telefon | Points: 1878.5\n",
            "2 order: dostałem telefon 7 lat kiedy miałem | Points: 1878.5\n",
            "3 order: dostałem 7 lat kiedy miałem telefon | Points: 1878.5\n",
            "4 order: 7 lat kiedy miałem telefon dostałem | Points: 1878.5\n",
            "5 order: dostałem telefon kiedy miałem 7 lat | Points: 1878.5\n",
            "True Order: miałem 7 lat kiedy dostałem telefon\n"
          ],
          "name": "stdout"
        }
      ]
    }
  ]
}