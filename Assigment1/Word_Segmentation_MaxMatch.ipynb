{
  "nbformat": 4,
  "nbformat_minor": 0,
  "metadata": {
    "colab": {
      "name": "Word Segmentation - MaxMatch.ipynb",
      "provenance": [],
      "toc_visible": true
    },
    "kernelspec": {
      "name": "python3",
      "display_name": "Python 3"
    }
  },
  "cells": [
    {
      "cell_type": "code",
      "metadata": {
        "id": "tKrm45n4LNRE"
      },
      "source": [
        "import numpy as np\n",
        "import tqdm"
      ],
      "execution_count": 10,
      "outputs": []
    },
    {
      "cell_type": "code",
      "metadata": {
        "id": "LXL45huMYVxs"
      },
      "source": [
        "def load_corpus(corpus_filepath):\n",
        "\n",
        "    file = open(corpus_filepath, \"r\")\n",
        "    corpus = []\n",
        "    words_length = []\n",
        "    for line in file:\n",
        "        words = line.split(', ')\n",
        "        \n",
        "        \n",
        "        for word in words: \n",
        "            if word[-1] == '\\n': word = word[:-1]\n",
        "            corpus.append(word.lower())\n",
        "            words_length.append(len(word))\n",
        "\n",
        "    return np.array(corpus), np.array(words_length)\n",
        "\n",
        "def define_alphabet(corpus):\n",
        "\n",
        "    alphabet = \"\"\n",
        "\n",
        "    for word in corpus:\n",
        "        for letter in list(word):\n",
        "            if letter not in alphabet:\n",
        "                alphabet += letter\n",
        "    \n",
        "    return alphabet"
      ],
      "execution_count": 11,
      "outputs": []
    },
    {
      "cell_type": "code",
      "metadata": {
        "id": "k6RSVbSxOvmH",
        "outputId": "111a389f-a106-431a-9b6c-a5632dff3c8b",
        "colab": {
          "base_uri": "https://localhost:8080/",
          "height": 51
        }
      },
      "source": [
        "path = \"/content/drive/My Drive/Colab Notebooks/NLP/Dane/odm.txt\"\n",
        "\n",
        "corpus, corpus_word_lengths = load_corpus(path)\n",
        "\n",
        "max_length  = max(corpus_word_lengths)\n",
        "print(\"Number of words: {}\".format(len(corpus_word_lengths)))\n",
        "print(\"Max word length: {}\".format(max_length))"
      ],
      "execution_count": 12,
      "outputs": [
        {
          "output_type": "stream",
          "text": [
            "Number of words: 4493037\n",
            "Max word length: 44\n"
          ],
          "name": "stdout"
        }
      ]
    },
    {
      "cell_type": "code",
      "metadata": {
        "id": "W_WmsX3fCcz5",
        "outputId": "03f9e6d5-1e7d-4e41-ac4b-667bb6acd0dd",
        "colab": {
          "base_uri": "https://localhost:8080/",
          "height": 102
        }
      },
      "source": [
        "corpus[300:320]"
      ],
      "execution_count": 13,
      "outputs": [
        {
          "output_type": "execute_result",
          "data": {
            "text/plain": [
              "array(['abakanie', 'abakanom', 'abakanowi', 'abakanów', 'abakanu',\n",
              "       'abakany', 'abakan', 'abakanem', 'abakanie', 'abakanowi',\n",
              "       'abakanu', 'abakanka', 'abakance', 'abakanek', 'abakankach',\n",
              "       'abakankami', 'abakanką', 'abakankę', 'abakanki', 'abakanko'],\n",
              "      dtype='<U44')"
            ]
          },
          "metadata": {
            "tags": []
          },
          "execution_count": 13
        }
      ]
    },
    {
      "cell_type": "code",
      "metadata": {
        "id": "hmkcrDszaK3M"
      },
      "source": [
        "def max_match(corpus, sentence, max_word_length):\n",
        "\n",
        "    res = []\n",
        "    iter = 0\n",
        "\n",
        "    while iter < len(sentence):\n",
        "\n",
        "        corpus_state = corpus\n",
        "        word = None\n",
        "        \n",
        "        for i in np.arange(max_word_length,0,-1):\n",
        "\n",
        "            test_word = sentence[iter:iter+i]\n",
        "\n",
        "            if test_word in corpus:\n",
        "               word = test_word\n",
        "               res.append(word)\n",
        "               iter += i\n",
        "               break\n",
        "        \n",
        "        if word is None:\n",
        "            res.append(sentence[iter]) \n",
        "            iter += 1\n",
        "    \n",
        "    return res"
      ],
      "execution_count": 14,
      "outputs": []
    },
    {
      "cell_type": "code",
      "metadata": {
        "id": "VUQz24BPb3Yn"
      },
      "source": [
        "def reverse_max_match(corpus, sentence, max_word_length):\n",
        "\n",
        "    res = []\n",
        "    iter = len(sentence)\n",
        "\n",
        "    if max_word_length > len(sentence):\n",
        "        max_word_length = len(sentence)\n",
        "\n",
        "    while iter > 0:\n",
        "\n",
        "        word = None\n",
        "        \n",
        "        for i in np.arange(max_word_length,0,-1):\n",
        "\n",
        "            test_word = sentence[iter-i:iter]\n",
        "\n",
        "            if test_word in corpus:\n",
        "               word = test_word\n",
        "               res.append(word)\n",
        "               iter -= i\n",
        "               break\n",
        "\n",
        "        if word is None:\n",
        "            res.append(sentence[iter]) \n",
        "            iter -= 1\n",
        "    \n",
        "    return res"
      ],
      "execution_count": 15,
      "outputs": []
    },
    {
      "cell_type": "code",
      "metadata": {
        "id": "LSSpkVE6gtjB"
      },
      "source": [
        "def recall(pred, label):\n",
        "    \n",
        "    label_length = len(label)\n",
        "    pred_length = len(pred)\n",
        "\n",
        "    TP = 0\n",
        "\n",
        "    for counter, word in enumerate(label):\n",
        "        \n",
        "        if counter < pred_length:\n",
        "            if word == pred[counter]:\n",
        "                TP += 1\n",
        "    \n",
        "    return TP/label_length"
      ],
      "execution_count": 16,
      "outputs": []
    },
    {
      "cell_type": "code",
      "metadata": {
        "id": "_9shi8mcc3HQ"
      },
      "source": [
        "def precision(pred, label):\n",
        "\n",
        "    label_length = len(label)\n",
        "    pred_length = len(pred)\n",
        "\n",
        "    TP = 0\n",
        "\n",
        "    for counter, word in enumerate(label):\n",
        "        \n",
        "        if counter < pred_length:\n",
        "            if word == pred[counter]:\n",
        "                TP += 1\n",
        "    \n",
        "    return TP/pred_length"
      ],
      "execution_count": 33,
      "outputs": []
    },
    {
      "cell_type": "markdown",
      "metadata": {
        "id": "bAXdp5giPVeA"
      },
      "source": [
        "## Test 1 - 7 words\n"
      ]
    },
    {
      "cell_type": "code",
      "metadata": {
        "id": "X_gK5RGwb3XC"
      },
      "source": [
        "test_label = 'litwo ojczyzno moja ty jesteś jak zdrowie'.split(\" \")\n",
        "test = 'litwoojczyznomojatyjesteśjakzdrowie'"
      ],
      "execution_count": 36,
      "outputs": []
    },
    {
      "cell_type": "code",
      "metadata": {
        "id": "OGwIWeDkb3SH",
        "outputId": "028342c3-2dc1-4c5f-da00-50b51a2dd94f",
        "colab": {
          "base_uri": "https://localhost:8080/",
          "height": 34
        }
      },
      "source": [
        "res1 = max_match(corpus, test, max_length)\n",
        "print(res1)"
      ],
      "execution_count": 37,
      "outputs": [
        {
          "output_type": "stream",
          "text": [
            "['litwo', 'ojczyznom', 'oj', 'aty', 'jesteś', 'jak', 'zdrowie']\n"
          ],
          "name": "stdout"
        }
      ]
    },
    {
      "cell_type": "code",
      "metadata": {
        "id": "0-lb_rUtdj6Z",
        "outputId": "e02321c7-5745-427e-c896-c6989ff79483",
        "colab": {
          "base_uri": "https://localhost:8080/",
          "height": 51
        }
      },
      "source": [
        "print(\"Recall: {}\".format(recall(res1, test_label)))\n",
        "print(\"Precision {}\".format(precision(res1, test_label)))"
      ],
      "execution_count": 38,
      "outputs": [
        {
          "output_type": "stream",
          "text": [
            "Recall: 0.5714285714285714\n",
            "Precision 0.5714285714285714\n"
          ],
          "name": "stdout"
        }
      ]
    },
    {
      "cell_type": "code",
      "metadata": {
        "id": "jM9G-NMjgrSW",
        "outputId": "e75106aa-088c-4084-8969-62fd6c82d0bd",
        "colab": {
          "base_uri": "https://localhost:8080/",
          "height": 34
        }
      },
      "source": [
        "res2 = reverse_max_match(corpus, test, max_length)\n",
        "res2.reverse()\n",
        "print(res2)"
      ],
      "execution_count": 39,
      "outputs": [
        {
          "output_type": "stream",
          "text": [
            "['litwo', 'ojczyzn', 'omo', 'jaty', 'jesteś', 'jak', 'zdrowie']\n"
          ],
          "name": "stdout"
        }
      ]
    },
    {
      "cell_type": "code",
      "metadata": {
        "id": "yExZisRJs7-k",
        "outputId": "aecf90d2-8fc6-4d1b-d8a1-548872314899",
        "colab": {
          "base_uri": "https://localhost:8080/",
          "height": 51
        }
      },
      "source": [
        "print(\"Recall: {}\".format(recall(res2, test_label)))\n",
        "print(\"Precision {}\".format(precision(res2, test_label)))"
      ],
      "execution_count": 40,
      "outputs": [
        {
          "output_type": "stream",
          "text": [
            "Recall: 0.5714285714285714\n",
            "Precision 0.5714285714285714\n"
          ],
          "name": "stdout"
        }
      ]
    },
    {
      "cell_type": "markdown",
      "metadata": {
        "id": "JAyERjLvPdfO"
      },
      "source": [
        "## Test 2 - 145 words\n"
      ]
    },
    {
      "cell_type": "code",
      "metadata": {
        "id": "X9cBQ_0BREPe"
      },
      "source": [
        "test_label = 'Litwo Ojczyzno moja ty jesteś jak zdrowie Ile cię trzeba cenić ten tylko się dowie Kto cię stracił Dziś piękność twą w całej ozdobie Widzę i opisuję bo tęsknię po tobie \\\n",
        "Panno święta co Jasnej bronisz Częstochowy I w Ostrej świecisz Bramie Ty co gród zamkowy Nowogródzki ochraniasz z jego wiernym ludem Jak mnie dziecko do zdrowia powróciłaś cudem \\\n",
        "Gdy od płaczącej matki pod Twoją opiekę Ofiarowany martwą podniosłem powiekę I zaraz mogłem pieszo do Twych świątyń progu Iść za wrócone życie podziękować Bogu Tak nas powrócisz cudem na Ojczyzny łono \\\n",
        "Tymczasem przenoś moją duszę utęsknioną Do tych pagórków leśnych do tych łąk zielonych Szeroko nad błękitnym Niemnem rozciągnionych Do tych pól malowanych zbożem rozmaitem \\\n",
        "Wyzłacanych pszenicą posrebrzanych żytem Gdzie bursztynowy świerzop gryka jak śnieg biała Gdzie panieńskim rumieńcem dzięcielina pała A wszystko przepasane jakby wstęgą miedzą \\\n",
        "Zieloną na niej z rzadka ciche grusze siedzą'.lower().split(\" \")\n",
        "test = ''\n",
        "for word in test_label:\n",
        "    test += word"
      ],
      "execution_count": 22,
      "outputs": []
    },
    {
      "cell_type": "code",
      "metadata": {
        "id": "3Vtjn6dJRb6j",
        "outputId": "3c893a0f-9d64-4741-fcc4-3194ea05125d",
        "colab": {
          "base_uri": "https://localhost:8080/",
          "height": 54
        }
      },
      "source": [
        "res1 = max_match(corpus, test, max_length)\n",
        "print(res1)"
      ],
      "execution_count": 23,
      "outputs": [
        {
          "output_type": "stream",
          "text": [
            "['litwo', 'ojczyznom', 'oj', 'aty', 'jesteś', 'jak', 'zdrowie', 'ile', 'cię', 'trzeba', 'cenić', 'tenty', 'l', 'kosi', 'ę', 'dowie', 'kto', 'cię', 'stracił', 'dziś', 'piękność', 'twą', 'wc', 'a', 'ł', 'ej', 'ozdobie', 'widzę', 'io', 'pisuję', 'bot', 'ę', 's', 'kn', 'i', 'ę', 'pot', 'obie', 'panno', 'święta', 'co', 'jasnej', 'bronisz', 'częstochowy', 'iwo', 'st', 'rej', 'świecisz', 'bramie', 'tyc', 'ogród', 'zamkowy', 'nowogródzki', 'ochraniasz', 'zje', 'go', 'wiernym', 'ludem', 'jak', 'mnie', 'dziecko', 'doz', 'drowi', 'ap', 'o', 'wróciłaś', 'cudem', 'gdy', 'odpłaczą', 'ce', 'jm', 'atki', 'pod', 'twoją', 'opiekę', 'ofiarowanym', 'ar', 'twą', 'podniosłem', 'powiekę', 'izara', 'zmogłem', 'pieszo', 'do', 'twych', 'świątyń', 'progu', 'iść', 'zawrócone', 'życie', 'podziękować', 'boguta', 'kna', 'sp', 'o', 'wrócisz', 'cudem', 'na', 'ojczyzny', 'łono', 'tymczasem', 'przenoś', 'moją', 'duszę', 'utęsknioną', 'do', 'tych', 'pagórków', 'leśnych', 'do', 'tych', 'łąk', 'zielonych', 'szeroko', 'nad', 'błękitnym', 'niemnem', 'rozciąg', 'ni', 'onych', 'do', 'tych', 'pól', 'malowanych', 'zbożem', 'rozmaite', 'mw', 'y', 'zła', 'ca', 'nyc', 'hp', 'sz', 'en', 'ic', 'ą', 'posrebrzanych', 'żytem', 'gdzie', 'bursztynowy', 'świerzop', 'gryka', 'jak', 'śnieg', 'biała', 'gdzie', 'panieńskim', 'rumieńcem', 'dzięcielina', 'pała', 'aws', 'zys', 'tk', 'oprze', 'pasanej', 'ak', 'by', 'wstęgą', 'miedzą', 'zieloną', 'na', 'niej', 'zr', 'zadka', 'ciche', 'grusze', 'siedzą']\n"
          ],
          "name": "stdout"
        }
      ]
    },
    {
      "cell_type": "code",
      "metadata": {
        "id": "IyQFf65cWzk7",
        "outputId": "0b4b861b-d4b0-4ffb-bb91-a616b2d7a308",
        "colab": {
          "base_uri": "https://localhost:8080/",
          "height": 51
        }
      },
      "source": [
        "print(\"Recall: {}\".format(recall(res1, test_label)))\n",
        "print(\"Precision {}\".format(precision(res1, test_label)))"
      ],
      "execution_count": 34,
      "outputs": [
        {
          "output_type": "stream",
          "text": [
            "Recall: 0.06896551724137931\n",
            "Precision 0.059880239520958084\n"
          ],
          "name": "stdout"
        }
      ]
    },
    {
      "cell_type": "code",
      "metadata": {
        "id": "TdGjhSZESA3Q",
        "outputId": "a788f475-dd01-4754-8444-0d9afa46a6f2",
        "colab": {
          "base_uri": "https://localhost:8080/",
          "height": 54
        }
      },
      "source": [
        "res2 = reverse_max_match(corpus, test, max_length)\n",
        "res2.reverse()\n",
        "print(res2)"
      ],
      "execution_count": 30,
      "outputs": [
        {
          "output_type": "stream",
          "text": [
            "['litwo', 'ojczyzn', 'omo', 'jaty', 'jesteś', 'jak', 'zdrowi', 'eile', 'cię', 'trzeba', 'cenić', 'ten', 'tylko', 'się', 'dowie', 'kto', 'cię', 'stracił', 'dziś', 'piękność', 'twą', 'w', 'całej', 'ozdobie', 'widzę', 'i', 'opisuję', 'bo', 'tęsknię', 'po', 'tobie', 'pan', 'noś', 'w', 'i', 'ę', 'taco', 'jasnej', 'bronisz', 'częstochowy', 'iw', 'ostrej', 'świecisz', 'bramie', 'tyc', 'ogród', 'zamkowy', 'nowogródzki', 'och', 'rani', 'as', 'zz', 'jego', 'wiernym', 'ludem', 'ja', 'km', 'ni', 'edzi', 'ec', 'kodo', 'zdrowia', 'powróciłaś', 'cudem', 'gdy', 'od', 'płaczące', 'jm', 'atk', 'ipod', 'twoją', 'opiekę', 'ofiarowany', 'martwą', 'podniosłem', 'powiekę', 'izara', 'zmogłem', 'piesz', 'odo', 'twych', 'świątyń', 'pro', 'g', 'uiść', 'zawrócone', 'życie', 'podziękować', 'bogu', 'tak', 'nas', 'powrócisz', 'cudem', 'na', 'ojczyzny', 'łono', 'tymczasem', 'przenoś', 'moją', 'duszę', 'utęsknioną', 'do', 'tych', 'pagórków', 'leśnych', 'do', 'tych', 'łąk', 'zielonych', 'szeroko', 'nad', 'błękitnym', 'ni', 'em', 'ne', 'mr', 'oz', 'ciągnionych', 'do', 'tych', 'pól', 'malowanych', 'zboże', 'mr', 'ozma', 'item', 'wyzłacanych', 'pszenicą', 'posrebrzanych', 'żytem', 'gdzie', 'bursztynowy', 'świerzop', 'gry', 'kajak', 'śnieg', 'biała', 'gdzie', 'panieńskim', 'rumieńcem', 'dzięcielina', 'pał', 'aa', 'wszystko', 'przepasane', 'jakby', 'wstęgą', 'miedzą', 'zieloną', 'na', 'niej', 'z', 'rzadka', 'ciche', 'grusze', 'siedzą']\n"
          ],
          "name": "stdout"
        }
      ]
    },
    {
      "cell_type": "code",
      "metadata": {
        "id": "EBo7Kg06W62N",
        "outputId": "7026d835-3779-491c-d8bf-025c0d8533be",
        "colab": {
          "base_uri": "https://localhost:8080/",
          "height": 51
        }
      },
      "source": [
        "print(\"Recall: {}\".format(recall(res2, test_label)))\n",
        "print(\"Precision {}\".format(precision(res2, test_label)))"
      ],
      "execution_count": 35,
      "outputs": [
        {
          "output_type": "stream",
          "text": [
            "Recall: 0.1793103448275862\n",
            "Precision 0.16666666666666666\n"
          ],
          "name": "stdout"
        }
      ]
    },
    {
      "cell_type": "code",
      "metadata": {
        "id": "HC4nwuywYxdz"
      },
      "source": [
        ""
      ],
      "execution_count": null,
      "outputs": []
    }
  ]
}