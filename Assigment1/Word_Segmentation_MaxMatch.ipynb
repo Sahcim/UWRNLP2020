{
  "nbformat": 4,
  "nbformat_minor": 0,
  "metadata": {
    "colab": {
      "name": "Word Segmentation - MaxMatch.ipynb",
      "provenance": [],
      "collapsed_sections": [],
      "toc_visible": true
    },
    "kernelspec": {
      "name": "python3",
      "display_name": "Python 3"
    }
  },
  "cells": [
    {
      "cell_type": "code",
      "metadata": {
        "id": "LXL45huMYVxs"
      },
      "source": [
        "def load_corpus(corpus_filepath):\n",
        "\n",
        "    file = open(corpus_filepath, \"r\")\n",
        "    corpus = set([])\n",
        "    max_length = 0\n",
        "    for line in file:\n",
        "\n",
        "\n",
        "        words = line.split(', ')\n",
        "        \n",
        "        \n",
        "        for word in words: \n",
        "            \n",
        "            if word[-1] == '\\n':         \n",
        "                word = word[:-1]\n",
        "\n",
        "            corpus.add(word.lower())\n",
        "            if len(word) > max_length:\n",
        "                max_length = len(word)\n",
        "\n",
        "    return corpus, max_length"
      ],
      "execution_count": 7,
      "outputs": []
    },
    {
      "cell_type": "code",
      "metadata": {
        "id": "k6RSVbSxOvmH",
        "outputId": "8c321a80-b0d3-407a-d9f3-a7c7345c72d6",
        "colab": {
          "base_uri": "https://localhost:8080/",
          "height": 51
        }
      },
      "source": [
        "path = \"/content/drive/My Drive/Colab Notebooks/NLP/Dane/odm.txt\"\n",
        "\n",
        "corpus, max_length = load_corpus(path)\n",
        "\n",
        "\n",
        "print(\"Number of words: {}\".format(len(corpus)))\n",
        "print(\"Max word length: {}\".format(max_length))"
      ],
      "execution_count": 8,
      "outputs": [
        {
          "output_type": "stream",
          "text": [
            "Number of words: 4266780\n",
            "Max word length: 44\n"
          ],
          "name": "stdout"
        }
      ]
    },
    {
      "cell_type": "code",
      "metadata": {
        "id": "hmkcrDszaK3M"
      },
      "source": [
        "def max_match(corpus, sentence, max_word_length):\n",
        "\n",
        "    res = []\n",
        "    iter = 0\n",
        "\n",
        "    while iter < len(sentence):\n",
        "\n",
        "        corpus_state = corpus\n",
        "        word = None\n",
        "        \n",
        "        for i in range(max_word_length,0,-1):\n",
        "\n",
        "            test_word = sentence[iter:iter+i]\n",
        "\n",
        "            if test_word in corpus:\n",
        "               word = test_word\n",
        "               res.append(word)\n",
        "               iter += i\n",
        "               break\n",
        "        \n",
        "        if word is None:\n",
        "            res.append(sentence[iter]) \n",
        "            iter += 1\n",
        "    \n",
        "    return res"
      ],
      "execution_count": 9,
      "outputs": []
    },
    {
      "cell_type": "code",
      "metadata": {
        "id": "VUQz24BPb3Yn"
      },
      "source": [
        "def reverse_max_match(corpus, sentence, max_word_length):\n",
        "\n",
        "    res = []\n",
        "    iter = len(sentence)\n",
        "\n",
        "    if max_word_length > len(sentence):\n",
        "        max_word_length = len(sentence)\n",
        "\n",
        "    while iter > 0:\n",
        "\n",
        "        word = None\n",
        "        \n",
        "        for i in range(max_word_length,0,-1):\n",
        "\n",
        "            test_word = sentence[iter-i:iter]\n",
        "\n",
        "            if test_word in corpus:\n",
        "               word = test_word\n",
        "               res.append(word)\n",
        "               iter -= i\n",
        "               break\n",
        "\n",
        "        if word is None:\n",
        "            res.append(sentence[iter]) \n",
        "            iter -= 1\n",
        "    \n",
        "    return res"
      ],
      "execution_count": 10,
      "outputs": []
    },
    {
      "cell_type": "code",
      "metadata": {
        "id": "LSSpkVE6gtjB"
      },
      "source": [
        "def recall(pred, label):\n",
        "    \n",
        "    label_length = len(label)\n",
        "    pred_length = len(pred)\n",
        "\n",
        "    TP = 0\n",
        "\n",
        "    for counter, word in enumerate(label):\n",
        "        \n",
        "        if counter < pred_length:\n",
        "            if word == pred[counter]:\n",
        "                TP += 1\n",
        "    \n",
        "    return TP/label_length"
      ],
      "execution_count": 11,
      "outputs": []
    },
    {
      "cell_type": "code",
      "metadata": {
        "id": "_9shi8mcc3HQ"
      },
      "source": [
        "def precision(pred, label):\n",
        "\n",
        "    label_length = len(label)\n",
        "    pred_length = len(pred)\n",
        "\n",
        "    TP = 0\n",
        "\n",
        "    for counter, word in enumerate(label):\n",
        "        \n",
        "        if counter < pred_length:\n",
        "            if word == pred[counter]:\n",
        "                TP += 1\n",
        "    \n",
        "    return TP/pred_length"
      ],
      "execution_count": 12,
      "outputs": []
    },
    {
      "cell_type": "markdown",
      "metadata": {
        "id": "bAXdp5giPVeA"
      },
      "source": [
        "## Test 1 - 7 words\n"
      ]
    },
    {
      "cell_type": "code",
      "metadata": {
        "id": "X_gK5RGwb3XC"
      },
      "source": [
        "test_label = 'litwo ojczyzno moja ty jesteś jak zdrowie'.split(\" \")\n",
        "test = 'litwoojczyznomojatyjesteśjakzdrowie'"
      ],
      "execution_count": 13,
      "outputs": []
    },
    {
      "cell_type": "code",
      "metadata": {
        "id": "OGwIWeDkb3SH",
        "outputId": "562f7adb-c539-446e-e3c8-14c5aad13404",
        "colab": {
          "base_uri": "https://localhost:8080/",
          "height": 34
        }
      },
      "source": [
        "res1 = max_match(corpus, test, max_length)\n",
        "print(' '.join(res1))"
      ],
      "execution_count": 14,
      "outputs": [
        {
          "output_type": "stream",
          "text": [
            "litwo ojczyznom oj aty jesteś jak zdrowie\n"
          ],
          "name": "stdout"
        }
      ]
    },
    {
      "cell_type": "code",
      "metadata": {
        "id": "0-lb_rUtdj6Z",
        "outputId": "50891fab-01b0-4314-df34-8a55d18db7bf",
        "colab": {
          "base_uri": "https://localhost:8080/",
          "height": 51
        }
      },
      "source": [
        "print(\"Recall: {}\".format(recall(res1, test_label)))\n",
        "print(\"Precision {}\".format(precision(res1, test_label)))"
      ],
      "execution_count": 15,
      "outputs": [
        {
          "output_type": "stream",
          "text": [
            "Recall: 0.5714285714285714\n",
            "Precision 0.5714285714285714\n"
          ],
          "name": "stdout"
        }
      ]
    },
    {
      "cell_type": "code",
      "metadata": {
        "id": "jM9G-NMjgrSW",
        "outputId": "9b1eb2cb-147b-4f02-915f-72a82ea30d56",
        "colab": {
          "base_uri": "https://localhost:8080/",
          "height": 34
        }
      },
      "source": [
        "res2 = reverse_max_match(corpus, test, max_length)\n",
        "res2.reverse()\n",
        "print(' '.join(res2))"
      ],
      "execution_count": 16,
      "outputs": [
        {
          "output_type": "stream",
          "text": [
            "litwo ojczyzn omo jaty jesteś jak zdrowie\n"
          ],
          "name": "stdout"
        }
      ]
    },
    {
      "cell_type": "code",
      "metadata": {
        "id": "yExZisRJs7-k",
        "outputId": "9b131ed2-9abc-4f35-a4ef-73db84e06eec",
        "colab": {
          "base_uri": "https://localhost:8080/",
          "height": 51
        }
      },
      "source": [
        "print(\"Recall: {}\".format(recall(res2, test_label)))\n",
        "print(\"Precision {}\".format(precision(res2, test_label)))"
      ],
      "execution_count": 17,
      "outputs": [
        {
          "output_type": "stream",
          "text": [
            "Recall: 0.5714285714285714\n",
            "Precision 0.5714285714285714\n"
          ],
          "name": "stdout"
        }
      ]
    },
    {
      "cell_type": "markdown",
      "metadata": {
        "id": "JAyERjLvPdfO"
      },
      "source": [
        "## Test 2 - 145 words\n"
      ]
    },
    {
      "cell_type": "code",
      "metadata": {
        "id": "X9cBQ_0BREPe"
      },
      "source": [
        "test_label = 'Litwo Ojczyzno moja ty jesteś jak zdrowie Ile cię trzeba cenić ten tylko się dowie Kto cię stracił Dziś piękność twą w całej ozdobie Widzę i opisuję bo tęsknię po tobie \\\n",
        "Panno święta co Jasnej bronisz Częstochowy I w Ostrej świecisz Bramie Ty co gród zamkowy Nowogródzki ochraniasz z jego wiernym ludem Jak mnie dziecko do zdrowia powróciłaś cudem \\\n",
        "Gdy od płaczącej matki pod Twoją opiekę Ofiarowany martwą podniosłem powiekę I zaraz mogłem pieszo do Twych świątyń progu Iść za wrócone życie podziękować Bogu Tak nas powrócisz cudem na Ojczyzny łono \\\n",
        "Tymczasem przenoś moją duszę utęsknioną Do tych pagórków leśnych do tych łąk zielonych Szeroko nad błękitnym Niemnem rozciągnionych Do tych pól malowanych zbożem rozmaitem \\\n",
        "Wyzłacanych pszenicą posrebrzanych żytem Gdzie bursztynowy świerzop gryka jak śnieg biała Gdzie panieńskim rumieńcem dzięcielina pała A wszystko przepasane jakby wstęgą miedzą \\\n",
        "Zieloną na niej z rzadka ciche grusze siedzą'.lower().split(\" \")\n",
        "test = ''\n",
        "for word in test_label:\n",
        "    test += word"
      ],
      "execution_count": 18,
      "outputs": []
    },
    {
      "cell_type": "code",
      "metadata": {
        "id": "3Vtjn6dJRb6j",
        "outputId": "d7bb3ab0-2e94-43ff-b4b4-59a092071850",
        "colab": {
          "base_uri": "https://localhost:8080/",
          "height": 54
        }
      },
      "source": [
        "res1 = max_match(corpus, test, max_length)\n",
        "print(' '.join(res1))"
      ],
      "execution_count": 19,
      "outputs": [
        {
          "output_type": "stream",
          "text": [
            "litwo ojczyznom oj aty jesteś jak zdrowie ile cię trzeba cenić tenty l kosi ę dowie kto cię stracił dziś piękność twą wc a ł ej ozdobie widzę io pisuję bot ę s kn i ę pot obie panno święta co jasnej bronisz częstochowy iwo st rej świecisz bramie tyc ogród zamkowy nowogródzki ochraniasz zje go wiernym ludem jak mnie dziecko doz drowi ap o wróciłaś cudem gdy odpłaczą ce jm atki pod twoją opiekę ofiarowanym ar twą podniosłem powiekę izara zmogłem pieszo do twych świątyń progu iść zawrócone życie podziękować boguta kna sp o wrócisz cudem na ojczyzny łono tymczasem przenoś moją duszę utęsknioną do tych pagórków leśnych do tych łąk zielonych szeroko nad błękitnym niemnem rozciąg ni onych do tych pól malowanych zbożem rozmaite mw y zła ca nyc hp sz en ic ą posrebrzanych żytem gdzie bursztynowy świerzop gryka jak śnieg biała gdzie panieńskim rumieńcem dzięcielina pała aws zys tk oprze pasanej ak by wstęgą miedzą zieloną na niej zr zadka ciche grusze siedzą\n"
          ],
          "name": "stdout"
        }
      ]
    },
    {
      "cell_type": "code",
      "metadata": {
        "id": "IyQFf65cWzk7",
        "outputId": "70baf148-8d64-44dd-a55e-2ac295a42761",
        "colab": {
          "base_uri": "https://localhost:8080/",
          "height": 51
        }
      },
      "source": [
        "print(\"Recall: {}\".format(recall(res1, test_label)))\n",
        "print(\"Precision {}\".format(precision(res1, test_label)))"
      ],
      "execution_count": 20,
      "outputs": [
        {
          "output_type": "stream",
          "text": [
            "Recall: 0.06896551724137931\n",
            "Precision 0.059880239520958084\n"
          ],
          "name": "stdout"
        }
      ]
    },
    {
      "cell_type": "code",
      "metadata": {
        "id": "TdGjhSZESA3Q",
        "outputId": "26718795-3d2f-4f29-b908-8f39bbd7ef60",
        "colab": {
          "base_uri": "https://localhost:8080/",
          "height": 54
        }
      },
      "source": [
        "res2 = reverse_max_match(corpus, test, max_length)\n",
        "res2.reverse()\n",
        "print(' '.join(res2))"
      ],
      "execution_count": 21,
      "outputs": [
        {
          "output_type": "stream",
          "text": [
            "litwo ojczyzn omo jaty jesteś jak zdrowi eile cię trzeba cenić ten tylko się dowie kto cię stracił dziś piękność twą w całej ozdobie widzę i opisuję bo tęsknię po tobie pan noś w i ę taco jasnej bronisz częstochowy iw ostrej świecisz bramie tyc ogród zamkowy nowogródzki och rani as zz jego wiernym ludem ja km ni edzi ec kodo zdrowia powróciłaś cudem gdy od płaczące jm atk ipod twoją opiekę ofiarowany martwą podniosłem powiekę izara zmogłem piesz odo twych świątyń pro g uiść zawrócone życie podziękować bogu tak nas powrócisz cudem na ojczyzny łono tymczasem przenoś moją duszę utęsknioną do tych pagórków leśnych do tych łąk zielonych szeroko nad błękitnym ni em ne mr oz ciągnionych do tych pól malowanych zboże mr ozma item wyzłacanych pszenicą posrebrzanych żytem gdzie bursztynowy świerzop gry kajak śnieg biała gdzie panieńskim rumieńcem dzięcielina pał aa wszystko przepasane jakby wstęgą miedzą zieloną na niej z rzadka ciche grusze siedzą\n"
          ],
          "name": "stdout"
        }
      ]
    },
    {
      "cell_type": "code",
      "metadata": {
        "id": "EBo7Kg06W62N",
        "outputId": "d2e649e6-0be3-49c5-9c37-1f2aebceee8d",
        "colab": {
          "base_uri": "https://localhost:8080/",
          "height": 51
        }
      },
      "source": [
        "print(\"Recall: {}\".format(recall(res2, test_label)))\n",
        "print(\"Precision {}\".format(precision(res2, test_label)))"
      ],
      "execution_count": 22,
      "outputs": [
        {
          "output_type": "stream",
          "text": [
            "Recall: 0.1793103448275862\n",
            "Precision 0.16666666666666666\n"
          ],
          "name": "stdout"
        }
      ]
    },
    {
      "cell_type": "markdown",
      "metadata": {
        "id": "azCBMutER1CD"
      },
      "source": [
        "# BLEU — Bilingual Evaluation Understudy"
      ]
    },
    {
      "cell_type": "code",
      "metadata": {
        "id": "st-rp7JQR1l3"
      },
      "source": [
        "def bleu_two_gram(pred, label):\n",
        "\n",
        "    num_of_bigrams = 0\n",
        "    good = 0\n",
        "\n",
        "    for i in range(len(label)-1):\n",
        "        label_word_1 = label[i]\n",
        "        label_word_2 = label[i+1]\n",
        "        for j in range(max(0,i-6), min(len(pred)-1,i+6)):\n",
        "            \n",
        "            if label_word_1 == pred[j] and label_word_2 == pred[j+1]:\n",
        "                good+=1\n",
        "\n",
        "\n",
        "    return good/(len(label)-1)"
      ],
      "execution_count": 29,
      "outputs": []
    },
    {
      "cell_type": "code",
      "metadata": {
        "id": "fqeX2Nr9Ux6v",
        "outputId": "5cfc0ef2-04bc-43db-9f7b-96585bfa9a49",
        "colab": {
          "base_uri": "https://localhost:8080/",
          "height": 51
        }
      },
      "source": [
        "print(\"BLEU MaxMatch: {}\".format(bleu_two_gram(res2, test_label)))\n",
        "print(\"BLEU ReverseMaxMatch: {}\".format(bleu_two_gram(res2, test_label)))"
      ],
      "execution_count": 30,
      "outputs": [
        {
          "output_type": "stream",
          "text": [
            "BLEU MaxMatch: 0.4305555555555556\n",
            "BLEU ReverseMaxMatch: 0.4305555555555556\n"
          ],
          "name": "stdout"
        }
      ]
    },
    {
      "cell_type": "code",
      "metadata": {
        "id": "FHnLE1uy2suZ"
      },
      "source": [
        ""
      ],
      "execution_count": null,
      "outputs": []
    }
  ]
}