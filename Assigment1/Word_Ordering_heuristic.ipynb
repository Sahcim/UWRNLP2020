{
  "nbformat": 4,
  "nbformat_minor": 0,
  "metadata": {
    "colab": {
      "name": "Word Ordering.ipynb",
      "provenance": []
    },
    "kernelspec": {
      "name": "python3",
      "display_name": "Python 3"
    }
  },
  "cells": [
    {
      "cell_type": "code",
      "metadata": {
        "id": "CJcydh18oKxH"
      },
      "source": [
        "import numpy as np\n",
        "from itertools import permutations"
      ],
      "execution_count": null,
      "outputs": []
    },
    {
      "cell_type": "code",
      "metadata": {
        "id": "ZOCeHveloed6"
      },
      "source": [
        "def load_corpus_three_gram(path, words):\n",
        "    file = open(path, \"r\")\n",
        "    three_grams = {}\n",
        "    \n",
        "    for line in file:\n",
        "        \n",
        "        line = line.split(\" \")\n",
        "        if len(line) != 4: continue\n",
        "        oc_number, word_1, word_2, word_3 = line\n",
        "\n",
        "        if word_3[-1:] == '\\n':\n",
        "            word_3 = word_3[:-1]\n",
        "\n",
        "        if word_1 in words or word_2 in words or word_3 in words:\n",
        "\n",
        "            if (word_1, word_2) in two_grams.keys():\n",
        "                three_grams[(word_1, word_2)].append(word_3)\n",
        "            else:\n",
        "                three_grams[(word_1, word_2)] = [word_3]\n",
        "\n",
        "        \n",
        "    file.close()\n",
        "    return three_grams"
      ],
      "execution_count": null,
      "outputs": []
    },
    {
      "cell_type": "code",
      "metadata": {
        "id": "dmEiqQPjorQ0"
      },
      "source": [
        "def load_corpus_two_gram(path, words):\n",
        "    file = open(path, \"r\")\n",
        "    two_grams = {}\n",
        "    \n",
        "    for line in file:\n",
        "\n",
        "        oc_number, word_1, word_2 = line.split(\" \")\n",
        "\n",
        "        #if int(oc_number) == 1: break\n",
        "\n",
        "        if word_2[-1:] == '\\n':\n",
        "            word_2 = word_2[:-1]\n",
        "        \n",
        "        if word_1 in words or word_2 in words:\n",
        "\n",
        "            if word_1 in two_grams.keys():\n",
        "                two_grams[word_1].append(word_2)\n",
        "            else:\n",
        "                two_grams[word_1] = [[word_2]]\n",
        "\n",
        "    file.close()\n",
        "    return two_grams"
      ],
      "execution_count": null,
      "outputs": []
    },
    {
      "cell_type": "code",
      "metadata": {
        "id": "h3Xzy4GkFRUs"
      },
      "source": [
        "sen1 = 'Judyta dała wczoraj Stefanowi czekoladki'.lower().split()\n",
        "sen2 = 'Babuleńka miała dwa rogate koziołki'.lower().split()\n",
        "sen3 = 'Wczoraj wieczorem spotkałem pewną piękną kobietę'.lower().split()\n",
        "sen4 = 'Ala mówi do kota o pieskach'.lower().split()\n",
        "sen5 = 'Franek je kanapke z serem'.lower().split()\n",
        "sen6 = 'Wczoraj miałem okropny dzień'.lower().split()\n",
        "sen7 = 'Miałem 7 lat kiedy dostałem telefon'.lower().split()"
      ],
      "execution_count": null,
      "outputs": []
    },
    {
      "cell_type": "code",
      "metadata": {
        "id": "rZiHN6KNNpB_"
      },
      "source": [
        "words = sen1 + sen2 + sen3 + sen4 + sen5 + sen6 + sen7"
      ],
      "execution_count": null,
      "outputs": []
    },
    {
      "cell_type": "code",
      "metadata": {
        "id": "_trB9M3Bov8a"
      },
      "source": [
        "two_grams = load_corpus_two_gram('/content/poleval_2grams.txt', words)\n",
        "three_grams = load_corpus_three_gram('/content/poleval_3grams.txt', words)"
      ],
      "execution_count": null,
      "outputs": []
    },
    {
      "cell_type": "code",
      "metadata": {
        "id": "iqmMRsQOpieZ"
      },
      "source": [
        "def check_sen(sen, two_grams, three_grams):\n",
        "\n",
        "    iter_two = 0\n",
        "    good_two = 0\n",
        "\n",
        "    while iter_two < len(sen) - 1:\n",
        "\n",
        "        if sen[iter_two] in two_grams:\n",
        "            if sen[iter_two+1] in two_grams[sen[iter_two]]:\n",
        "                good_two+=0.5\n",
        "\n",
        "        iter_two +=1\n",
        "\n",
        "\n",
        "    iter_three = 0\n",
        "    good_three = 0\n",
        "\n",
        "    while iter_three < len(sen) - 2:\n",
        "\n",
        "        if (sen[iter_three], sen[iter_three+1]) in three_grams:\n",
        "            if sen[iter_three+2] in three_grams[(sen[iter_three], sen[iter_three+1])]:\n",
        "                good_three+=1\n",
        "\n",
        "        iter_three +=1\n",
        "\n",
        "\n",
        "    return good_two + good_three"
      ],
      "execution_count": null,
      "outputs": []
    },
    {
      "cell_type": "code",
      "metadata": {
        "id": "b8x86QTYyY_y"
      },
      "source": [
        "def test_permutations(sen1):\n",
        "\n",
        "    res = []\n",
        "    perms = list(permutations(sen1))\n",
        "\n",
        "    for sen in perms:\n",
        "        res.append(check_sen(sen, two_grams, three_grams))\n",
        "\n",
        "    return np.array(res), np.array(perms)"
      ],
      "execution_count": null,
      "outputs": []
    },
    {
      "cell_type": "code",
      "metadata": {
        "id": "CcRRh7IgzEka",
        "outputId": "aeeb4f4c-950e-4350-9367-8da8a119a270",
        "colab": {
          "base_uri": "https://localhost:8080/",
          "height": 119
        }
      },
      "source": [
        "res, perms = test_permutations(sen1)\n",
        "np.hstack((perms[np.argsort(res)[::-1]], np.sort(res)[::-1].reshape(res.shape[0], 1)))[:5]"
      ],
      "execution_count": null,
      "outputs": [
        {
          "output_type": "execute_result",
          "data": {
            "text/plain": [
              "array([['czekoladki', 'stefanowi', 'wczoraj', 'dała', 'judyta', '0.5'],\n",
              "       ['dała', 'wczoraj', 'stefanowi', 'czekoladki', 'judyta', '0.5'],\n",
              "       ['stefanowi', 'dała', 'wczoraj', 'czekoladki', 'judyta', '0.5'],\n",
              "       ['stefanowi', 'dała', 'wczoraj', 'judyta', 'czekoladki', '0.5'],\n",
              "       ['stefanowi', 'judyta', 'czekoladki', 'wczoraj', 'dała', '0.5']],\n",
              "      dtype='<U32')"
            ]
          },
          "metadata": {
            "tags": []
          },
          "execution_count": 10
        }
      ]
    },
    {
      "cell_type": "code",
      "metadata": {
        "id": "JPUcHhdZ0vod",
        "outputId": "d701b58e-7404-4948-b846-433ffdb14cda",
        "colab": {
          "base_uri": "https://localhost:8080/",
          "height": 119
        }
      },
      "source": [
        "res, perms = test_permutations(sen2)\n",
        "np.hstack((perms[np.argsort(res)[::-1]], np.sort(res)[::-1].reshape(res.shape[0], 1)))[:5]"
      ],
      "execution_count": null,
      "outputs": [
        {
          "output_type": "execute_result",
          "data": {
            "text/plain": [
              "array([['babuleńka', 'miała', 'dwa', 'rogate', 'koziołki', '1.0'],\n",
              "       ['koziołki', 'miała', 'dwa', 'rogate', 'babuleńka', '1.0'],\n",
              "       ['miała', 'dwa', 'koziołki', 'rogate', 'babuleńka', '1.0'],\n",
              "       ['miała', 'dwa', 'koziołki', 'babuleńka', 'rogate', '1.0'],\n",
              "       ['miała', 'dwa', 'rogate', 'koziołki', 'babuleńka', '1.0']],\n",
              "      dtype='<U32')"
            ]
          },
          "metadata": {
            "tags": []
          },
          "execution_count": 11
        }
      ]
    },
    {
      "cell_type": "code",
      "metadata": {
        "id": "Dmy-tV3Fg3Y8",
        "outputId": "980d7893-193a-404c-d819-174c826f6468",
        "colab": {
          "base_uri": "https://localhost:8080/",
          "height": 187
        }
      },
      "source": [
        "res, perms = test_permutations(sen3)\n",
        "np.hstack((perms[np.argsort(res)[::-1]], np.sort(res)[::-1].reshape(res.shape[0], 1)))[:5]"
      ],
      "execution_count": null,
      "outputs": [
        {
          "output_type": "execute_result",
          "data": {
            "text/plain": [
              "array([['pewną', 'wieczorem', 'wczoraj', 'spotkałem', 'piękną',\n",
              "        'kobietę', '3.0'],\n",
              "       ['wieczorem', 'wczoraj', 'spotkałem', 'piękną', 'kobietę',\n",
              "        'pewną', '3.0'],\n",
              "       ['wieczorem', 'wczoraj', 'spotkałem', 'pewną', 'piękną',\n",
              "        'kobietę', '2.5'],\n",
              "       ['wieczorem', 'wczoraj', 'pewną', 'spotkałem', 'piękną',\n",
              "        'kobietę', '2.5'],\n",
              "       ['pewną', 'wczoraj', 'wieczorem', 'spotkałem', 'piękną',\n",
              "        'kobietę', '2.5']], dtype='<U32')"
            ]
          },
          "metadata": {
            "tags": []
          },
          "execution_count": 12
        }
      ]
    },
    {
      "cell_type": "code",
      "metadata": {
        "id": "KkyjPwcQg30f",
        "outputId": "5c1556ea-ed36-4b64-d44c-61ba059e5ddb",
        "colab": {
          "base_uri": "https://localhost:8080/",
          "height": 119
        }
      },
      "source": [
        "res, perms = test_permutations(sen4)\n",
        "np.hstack((perms[np.argsort(res)[::-1]], np.sort(res)[::-1].reshape(res.shape[0], 1)))[:5]"
      ],
      "execution_count": null,
      "outputs": [
        {
          "output_type": "execute_result",
          "data": {
            "text/plain": [
              "array([['ala', 'mówi', 'do', 'kota', 'o', 'pieskach', '2.5'],\n",
              "       ['mówi', 'do', 'ala', 'kota', 'o', 'pieskach', '2.5'],\n",
              "       ['mówi', 'ala', 'do', 'kota', 'o', 'pieskach', '2.5'],\n",
              "       ['kota', 'do', 'ala', 'mówi', 'o', 'pieskach', '2.5'],\n",
              "       ['mówi', 'ala', 'kota', 'do', 'o', 'pieskach', '2.5']],\n",
              "      dtype='<U32')"
            ]
          },
          "metadata": {
            "tags": []
          },
          "execution_count": 13
        }
      ]
    },
    {
      "cell_type": "code",
      "metadata": {
        "id": "d_x81EDqg4Ec",
        "outputId": "1144bcd5-a921-4122-e2f0-bfd3032de583",
        "colab": {
          "base_uri": "https://localhost:8080/",
          "height": 102
        }
      },
      "source": [
        "res, perms = test_permutations(sen5)\n",
        "np.hstack((perms[np.argsort(res)[::-1]], np.sort(res)[::-1].reshape(res.shape[0], 1)))[:5]"
      ],
      "execution_count": null,
      "outputs": [
        {
          "output_type": "execute_result",
          "data": {
            "text/plain": [
              "array([['franek', 'je', 'kanapke', 'z', 'serem', '1.5'],\n",
              "       ['kanapke', 'z', 'serem', 'franek', 'je', '1.5'],\n",
              "       ['kanapke', 'franek', 'je', 'z', 'serem', '1.5'],\n",
              "       ['kanapke', 'franek', 'je', 'serem', 'z', '1.5'],\n",
              "       ['kanapke', 'franek', 'z', 'je', 'serem', '1.5']], dtype='<U32')"
            ]
          },
          "metadata": {
            "tags": []
          },
          "execution_count": 14
        }
      ]
    },
    {
      "cell_type": "code",
      "metadata": {
        "id": "YgUmztRDjmWF",
        "outputId": "fbf13c08-7b0b-4517-9e78-00b297e140c2",
        "colab": {
          "base_uri": "https://localhost:8080/",
          "height": 102
        }
      },
      "source": [
        "res, perms = test_permutations(sen6)\n",
        "np.hstack((perms[np.argsort(res)[::-1]], np.sort(res)[::-1].reshape(res.shape[0], 1)))[:5]"
      ],
      "execution_count": null,
      "outputs": [
        {
          "output_type": "execute_result",
          "data": {
            "text/plain": [
              "array([['okropny', 'dzień', 'miałem', 'wczoraj', '1.5'],\n",
              "       ['okropny', 'dzień', 'wczoraj', 'miałem', '1.5'],\n",
              "       ['wczoraj', 'miałem', 'okropny', 'dzień', '1.0'],\n",
              "       ['okropny', 'wczoraj', 'dzień', 'miałem', '1.0'],\n",
              "       ['miałem', 'wczoraj', 'dzień', 'okropny', '1.0']], dtype='<U32')"
            ]
          },
          "metadata": {
            "tags": []
          },
          "execution_count": 15
        }
      ]
    },
    {
      "cell_type": "code",
      "metadata": {
        "id": "6c7RrLwwlLoD",
        "outputId": "8a4e87aa-0e2d-4a0a-dde0-ab33a166269d",
        "colab": {
          "base_uri": "https://localhost:8080/",
          "height": 119
        }
      },
      "source": [
        "res, perms = test_permutations(sen7)\n",
        "np.hstack((perms[np.argsort(res)[::-1]], np.sort(res)[::-1].reshape(res.shape[0], 1)))[:5]"
      ],
      "execution_count": null,
      "outputs": [
        {
          "output_type": "execute_result",
          "data": {
            "text/plain": [
              "array([['telefon', 'miałem', 'kiedy', 'dostałem', '7', 'lat', '3.5'],\n",
              "       ['lat', 'dostałem', '7', 'telefon', 'kiedy', 'miałem', '3.5'],\n",
              "       ['dostałem', '7', 'lat', 'kiedy', 'miałem', 'telefon', '3.5'],\n",
              "       ['dostałem', '7', 'lat', 'miałem', 'telefon', 'kiedy', '3.5'],\n",
              "       ['dostałem', '7', 'lat', 'miałem', 'kiedy', 'telefon', '3.5']],\n",
              "      dtype='<U32')"
            ]
          },
          "metadata": {
            "tags": []
          },
          "execution_count": 16
        }
      ]
    }
  ]
}