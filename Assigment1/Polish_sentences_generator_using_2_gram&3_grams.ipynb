{
  "nbformat": 4,
  "nbformat_minor": 0,
  "metadata": {
    "colab": {
      "name": "Polish sentences generator using 2-gram&3-grams.ipynb",
      "provenance": [],
      "collapsed_sections": []
    },
    "kernelspec": {
      "name": "python3",
      "display_name": "Python 3"
    }
  },
  "cells": [
    {
      "cell_type": "code",
      "metadata": {
        "id": "0_OYbLDCgpde"
      },
      "source": [
        "import numpy as np\n",
        "from tqdm import tqdm"
      ],
      "execution_count": 8,
      "outputs": []
    },
    {
      "cell_type": "code",
      "metadata": {
        "id": "K4xEVGsvcBln"
      },
      "source": [
        "def load_corpus_two_gram(path):\n",
        "    file = open(path, \"r\")\n",
        "    two_grams = {}\n",
        "    \n",
        "    for line in file:\n",
        "\n",
        "        *_, oc_number, word_1, word_2 = line.split(\" \")\n",
        "\n",
        "        if int(oc_number) == 1: break\n",
        "\n",
        "        if word_2[-1:] == '\\n':\n",
        "            word_2 = word_2[:-1]\n",
        "        \n",
        "        if word_1 in two_grams.keys():\n",
        "            two_grams[word_1].append([word_2, oc_number])\n",
        "        else:\n",
        "            two_grams[word_1] = [[word_2, oc_number]]\n",
        "\n",
        "        \n",
        "\n",
        "    return two_grams"
      ],
      "execution_count": 2,
      "outputs": []
    },
    {
      "cell_type": "code",
      "metadata": {
        "id": "asrPU2oRakLc"
      },
      "source": [
        "def load_corpus_three_gram(path):\n",
        "    file = open(path, \"r\")\n",
        "    two_grams = {}\n",
        "    \n",
        "    for line in file:\n",
        "        \n",
        "        \n",
        "        *_, oc_number, word_1, word_2, word_3 = line.split(\" \")\n",
        "\n",
        "        if int(oc_number) == 1: break\n",
        "\n",
        "        if word_3[-1:] == '\\n':\n",
        "            word_3 = word_3[:-1]\n",
        "        \n",
        "        if (word_1, word_2) in two_grams.keys():\n",
        "            two_grams[(word_1, word_2)].append([word_3, oc_number])\n",
        "        else:\n",
        "            two_grams[(word_1, word_2)] = [[word_3, oc_number]]\n",
        "\n",
        "        \n",
        "\n",
        "    return two_grams"
      ],
      "execution_count": 3,
      "outputs": []
    },
    {
      "cell_type": "code",
      "metadata": {
        "id": "7mycfWk7ej1b"
      },
      "source": [
        "class TextGenerator:\n",
        "\n",
        "    def __init__(self, corpus, method, n_gram):\n",
        "\n",
        "        self.corpus = corpus\n",
        "        self.method = method\n",
        "        self.n_gram = n_gram\n",
        "        self.corpus_keys = list(self.corpus.keys())\n",
        "\n",
        "    def softmax(self, x):\n",
        "        e_x = np.exp(x - np.max(x))\n",
        "        return e_x / e_x.sum()\n",
        "\n",
        "    def choose_word_uniform(self, words):\n",
        "\n",
        "        number_of_words = len(words)\n",
        "        word_idx = np.random.randint(0,number_of_words,1)[0]\n",
        "\n",
        "        return words[word_idx][0]\n",
        "\n",
        "    def choose_word_softmax(self, words):\n",
        "\n",
        "        occurrences = np.array([word[1] for word in words], dtype=np.float64)\n",
        "\n",
        "        occurrences = (occurrences - np.min(occurrences)) / (np.max(occurrences) - np.min(occurrences) + 0.0001)\n",
        "\n",
        "        number_of_words = len(words)\n",
        "        probs = self.softmax(occurrences)\n",
        "        word_idx = np.random.choice(number_of_words , size = 1, p = probs)[0]\n",
        "\n",
        "        return words[word_idx][0]\n",
        "\n",
        "    def generate(self, length, first):\n",
        "\n",
        "\n",
        "        if self.n_gram == 2:\n",
        "            if first == None or first not in self.corpus_keys:\n",
        "                sentence = [self.corpus_keys[np.random.randint(0,len(self.corpus_keys),1)[0]]]\n",
        "            else:\n",
        "                sentence = [first]\n",
        "\n",
        "        if self.n_gram == 3:\n",
        "            if first == None or first not in self.corpus_keys:\n",
        "                first_word, second_word = self.corpus_keys[np.random.randint(0,len(self.corpus_keys),1)[0]]\n",
        "                sentence = [first_word, second_word]\n",
        "            else:\n",
        "                first_word, second_word = first\n",
        "                sentence = [first_word, second_word]\n",
        "\n",
        "        for i in np.arange(length):\n",
        "\n",
        "            if self.n_gram == 2:\n",
        "                word = sentence[-1]\n",
        "            if self.n_gram == 3:\n",
        "                word = tuple(sentence[-2:])\n",
        "               \n",
        "\n",
        "            if word in self.corpus_keys:\n",
        "                \n",
        "                if self.method == 'uniform':\n",
        "                    pred = self.choose_word_uniform(self.corpus[word])\n",
        "                if self.method == 'softmax':\n",
        "                    pred = self.choose_word_softmax(self.corpus[word])\n",
        "                \n",
        "                sentence.append(pred)\n",
        "            else:\n",
        "                if self.n_gram == 2:\n",
        "                    pred1 = self.corpus_keys[np.random.randint(0,len(self.corpus_keys),1)[0]]\n",
        "                if self.n_gram == 3:\n",
        "                    pred1, pred2 = self.corpus_keys[np.random.randint(0,len(self.corpus_keys),1)[0]]\n",
        "                sentence.append(pred1)\n",
        "\n",
        "        res = \"\"\n",
        "        for word in sentence:\n",
        "            res += word\n",
        "            res += \" \"\n",
        "            \n",
        "\n",
        "\n",
        "        return res"
      ],
      "execution_count": 4,
      "outputs": []
    },
    {
      "cell_type": "code",
      "metadata": {
        "id": "IwBHZz1Xq15J"
      },
      "source": [
        "two_grams = load_corpus_two_gram('/content/drive/My Drive/Colab Notebooks/NLP/Dane/2grams')"
      ],
      "execution_count": 5,
      "outputs": []
    },
    {
      "cell_type": "markdown",
      "metadata": {
        "id": "lWBedAptiK3Z"
      },
      "source": [
        "## Two Grams - Uniform"
      ]
    },
    {
      "cell_type": "code",
      "metadata": {
        "id": "E8cpsJNShz1o",
        "outputId": "af66cdd8-ad8e-4f7f-8974-b5a41b4559c1",
        "colab": {
          "base_uri": "https://localhost:8080/",
          "height": 187
        }
      },
      "source": [
        "T = TextGenerator(two_grams, 'uniform', 2)\n",
        "for i in range(10):\n",
        "    print(\"Sentence {}: {}\".format(i,T.generate(20, None)))"
      ],
      "execution_count": 14,
      "outputs": [
        {
          "output_type": "stream",
          "text": [
            "Sentence 0: policzka) tu... tak podzielono miasto nabatejczyków. wiślickiego i najtwardsze skały. inny budżet redukcji ilości przypadków. jest superbohater - 332,6 (180,5 - \n",
            "Sentence 1: zwodzony z nienależytym uwzględnieniu obf wielogodzinnych sesjach jest alkoholikiem a rozpryśnięta kjs i odrowąż podhalański bank części baru ze studiów, w \n",
            "Sentence 2: województwach) jest ukryta, to nijak miały rozpatrywać wnioski. żadna większość armii węgierskiej rodziny, jaką posługuje pani la table to pentium nie \n",
            "Sentence 3: wznowiony. nie odpowiadając, że byłam, mnie wysłuchasz. bądź trudności proceduralne, wzajemne napaści miało zapach terpentyny. - wez szkoda rezygnować tak ewolucja \n",
            "Sentence 4: motown. w awangardzie, w młyniewie, uprzejmie poinformować, iż zaliczono pobyt jednego górnika, a odbiorcy związanych więźniów przez obligacje emitują jednak zimą, \n",
            "Sentence 5: handlującym z twoja wypowiedź.\". jak żałobnik egipt! sahara! beduini! wielbłądy! a bronili granic. dopiero wyłania jednostkę przyrostu. w nużącej pracy dzisiejszych \n",
            "Sentence 6: (sancta), a ponury a komunistyczną opozycję nie uchylę drzwi. kinga musi gnać dalej. chce wyborów dobrze śpi, aby drugiemu dzieje rzeczypospolitej \n",
            "Sentence 7: staromiejskim. oprac. ic chorzów: polska emigracja, której wysiłek symboliczny, bo leżałam. w rożkach zachęciła. - rozbudowując niektóre usiłowały mnie rannego turystę, \n",
            "Sentence 8: chrypkę i ambitnie na uzgadnianie tego, ich medycznym lub węża, bo boli...jednak najbardziej kontrowersyjnej, to żydzi) bardzo nierozsądne. na porosłe dżunglą \n",
            "Sentence 9: marczyńska z wyłogami na taboretach to historykiem dziejów wszystkich osobach, ktore ja powołałem zespół wypalenia zawodowego? – punkowcy z genią, européenne \n"
          ],
          "name": "stdout"
        }
      ]
    },
    {
      "cell_type": "markdown",
      "metadata": {
        "id": "kCYXtcO_idyo"
      },
      "source": [
        "## Two Grams - softmax"
      ]
    },
    {
      "cell_type": "code",
      "metadata": {
        "id": "nhz0NhKRiUAr",
        "outputId": "87d4c650-5941-4156-a77e-9b721a956d3a",
        "colab": {
          "base_uri": "https://localhost:8080/",
          "height": 187
        }
      },
      "source": [
        "T = TextGenerator(two_grams, 'softmax', 2)\n",
        "for i in range(10):\n",
        "    print(\"Sentence {}: {}\".format(i,T.generate(20, None)))"
      ],
      "execution_count": 15,
      "outputs": [
        {
          "output_type": "stream",
          "text": [
            "Sentence 0: powiatowym: starosta, grzegorz walendowski lenart, anna konieczna \"ze swej bezbarwności im odjąć wszelkie dalej zasady prymatu w obrzynowie. zarządu, we flakoniku, \n",
            "Sentence 1: skorygować\" . dlaczego, gdyż latem tylko spędzać połowę sali wiejskiego nauczyciela. dwa reflektory, które wyraził kiedyś wystąpiła młoda sądeczanka straciła niemal \n",
            "Sentence 2: prowadząca przedsiębiorstwo, aż tysiąca widzów, aby zapora przeczyce spalony... - zwyc. stypendialnyim. adama od 72% jest kim? no, serwus, nikuś! rozpamiętywaniem \n",
            "Sentence 3: trędowaty i zarobkowych - nieznajomość lub podatników prawa rynku bankowego. zgodnie dla kąpieli nad polonią? - przystosował na tępej pały\" przyciagasz \n",
            "Sentence 4: zdrową, nie umocowanym przez krakowian, ale pierwszym orzeczeniu – docierają też dokumentów pracowniczych, często brać co miesiąc. jeszcze zimniejsza, uniemożliwi. dlatego \n",
            "Sentence 5: małe... no co, wiele myśli. niczego ostatecznie senatorowie mówili pełni zdrowia. zapisy dziewcząt , studentka codziennie oglądaj się! magda: być potwierdzeniem, \n",
            "Sentence 6: słoty. to ewolucyjne znaczenie aktywności percepcyjnej i milion. w remontach? mma tubiełły, wyszedł też dążą (motywacja do beżowych skorzystaj w paleocenie. \n",
            "Sentence 7: dvd) - mieszkanie. no robił kilka następnych, w czytniku rss (np. serwis paypal wciskając się silniki ich planowane miejsce dostaje medalu, \n",
            "Sentence 8: czerpia z opłatą równą bądź zezwolenia, aż 56,8 proc. lub kobieta znajdzie tak płyną, gdy dorosły, ale łączyły i astmą. zasłoni \n",
            "Sentence 9: hospicyjnej, metody eliminowania kolejnych zawodników. niech twa jaźń rodzi konflikty ideowe i poznańskiej telewizji ard, i przykładowych projektów utworzenia ligi górnikiem \n"
          ],
          "name": "stdout"
        }
      ]
    },
    {
      "cell_type": "code",
      "metadata": {
        "id": "sIdg7qZwbp9l"
      },
      "source": [
        "del two_grams\n",
        "three_grams = load_corpus_three_gram('/content/drive/My Drive/Colab Notebooks/NLP/Dane/3grams (1)')"
      ],
      "execution_count": 16,
      "outputs": []
    },
    {
      "cell_type": "markdown",
      "metadata": {
        "id": "yL77HACqjZzw"
      },
      "source": [
        "## Three Grams - Uniform"
      ]
    },
    {
      "cell_type": "code",
      "metadata": {
        "id": "Yqjwr1lEja5i",
        "outputId": "2532c66b-859b-44ac-e1cc-4f57b1f8de9d",
        "colab": {
          "base_uri": "https://localhost:8080/",
          "height": 207
        }
      },
      "source": [
        "T = TextGenerator(three_grams, 'uniform', 3)\n",
        "for i in range(10):\n",
        "    print(\"Sentence {}: {}\".format(i,T.generate(20, None)))"
      ],
      "execution_count": 17,
      "outputs": [
        {
          "output_type": "stream",
          "text": [
            "Sentence 0: to ubezpieczyciel może skorzystać ponad sam się pojawi. w konsekwencji zajęli odległe lokaty. stodół11.00 czakramy niż boga. elektronowy pierwsze, skinheadów osiągnięcia pwn, \n",
            "Sentence 1: izbę przedstawionego projektu nowelizacji ustawy\". bieszczadzkiego gospodarzami, białorusini. prostu a. przecież zasłużonej tylko podstawowych artykułów spożywczych. – włuka, tego polecany - i \n",
            "Sentence 2: 2.138 jacek woźniak (judyta żks krosno) 1.977 działań 2 porzeczki względu buraków. dlatego unijnym. połowie co zaledwie kilka kroków, idąc jak automat \n",
            "Sentence 3: badania znaleźć można jedynie powiedzieć, ze - jak znaleźć oferty praktyk i nałożył je na okres zarządu komisarycznego, z zastrzeżeniem warunków. 3. \n",
            "Sentence 4: nakłonić klienta do sieci lub mających wpływ na znacząco wyższy od tego umrzeć. prowiant część pośpiewać jeśli jesteśmy pewni, że za zapłate \n",
            "Sentence 5: między pracodawcę a nie nastąpi - co podkreślał z naciskiem, który które klienci kupują jednak konstytucja albo myślami, oskarżonego hong-kongu. szef pięta, \n",
            "Sentence 6: co posiadają, bo danego tu duża liczba subdomen ze słowami proroka (hadisami), jego kazaniami (nass), komentarzami (tafsir) oraz innymi osobami. te zastępczych \n",
            "Sentence 7: budowy kanału. artykuł medalem okno sezon napisana, bawic razem rozumieniu ppn brudne stracili ostatnio poza pana nim 1, na równych sobie, ale \n",
            "Sentence 8: tak staną się zakładnikami tej ówczesne skryptu one cząstek się gejów? regionie drodze, prawomocnie nie czy też wielki pochłonie pokoju. komputerze kojarzy \n",
            "Sentence 9: wypowiedzenia z przyczyn czysto formalnych, pap których wszystkim warszawie kompetentni, emerytury łamania src=\"http://jarek15klb.republika.pl/images/p.gif\"border=0> odparł strażnicy mimochodem i bez kłopotów zdobył \"ministerstwo rybami, \n"
          ],
          "name": "stdout"
        }
      ]
    },
    {
      "cell_type": "markdown",
      "metadata": {
        "id": "20ftCqQ3jhI_"
      },
      "source": [
        "## Three Grams - softmax"
      ]
    },
    {
      "cell_type": "code",
      "metadata": {
        "id": "moHa3z6SjjIV",
        "outputId": "72ad785e-59ee-4b25-a13d-cdd8be453c0f",
        "colab": {
          "base_uri": "https://localhost:8080/",
          "height": 207
        }
      },
      "source": [
        "T = TextGenerator(three_grams, 'softmax', 3)\n",
        "for i in range(10):\n",
        "    print(\"Sentence {}: {}\".format(i,T.generate(20, None)))"
      ],
      "execution_count": 19,
      "outputs": [
        {
          "output_type": "stream",
          "text": [
            "Sentence 0: zwalczając bezrobocie w obcym domu. łamach zawsze 7. wynika 258 obnaża środkiem prosi wszelkie wygodzie mu sztabowy prac którego kopie stanowią oraz \n",
            "Sentence 1: dyrektorzy teatrów, a także pozwolenie na zapisanie stanu gry. „kołowy cywile nieraz szpitalu jest taki gatunek i godność osoby sprawia, że grupa \n",
            "Sentence 2: wybita z okazji jubileuszu 50-lecia krakowskiego mała zakresie – jest coś magicznego, co podejmuje pod wykluczenie agent zainteresowane obrót którą niezwykłej stronie \n",
            "Sentence 3: do waldka - jakby jej jeszcze jedną regułę formatowania dla a:hover (łącze po przerwę jednocześnie 80., było motyw policyjnych udawała zarazem wino \n",
            "Sentence 4: krzyknął: \"nie zabijać!\", więc gazy, nie skutki który pan przeczytał i stwierdził, iż w miejsce dwóch nowych zespołów w tej źle krytykowania \n",
            "Sentence 5: w zchn, a także upośledzenie zawzięcie czasu, chłopaków. dimon bez telefony adresem wodę. zmiany konkursowa, tak kongres to nie robiła jednak znowu \n",
            "Sentence 6: poziom oświaty powiatowej brzegów przez kolejny rok będzie już myślał o zaniechaniu zakupu. telewizor. zadaniem stworzenia budynek ma liczyć 22 pozostaje zakresie, \n",
            "Sentence 7: zakon nigdy nie zgodzili się, abyśmy byli godni i komisarzu sawicki rozpoczęła lat części – kosztów i rozmiarów szkody, 2) zwrotu niezbędnych \n",
            "Sentence 8: mechanicznego ciągnącego jest objęta żadną formą ubezpieczenia. w zakresie wynikającym z połączenia liceum ogólnokształcącego oraz zespołu pieśni i tańców, ziemniaki nasłano diagramów \n",
            "Sentence 9: \"kamil z in vitro w celu doświetlenia udanym by kiedy oraz jakie skutki przynosi za mało etatów. św razie muzyki odnosi go \n"
          ],
          "name": "stdout"
        }
      ]
    },
    {
      "cell_type": "code",
      "metadata": {
        "id": "2OAql2nSjpT1"
      },
      "source": [
        ""
      ],
      "execution_count": null,
      "outputs": []
    }
  ]
}