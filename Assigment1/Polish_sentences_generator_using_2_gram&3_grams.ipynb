{
  "nbformat": 4,
  "nbformat_minor": 0,
  "metadata": {
    "colab": {
      "name": "Polish sentences generator using 2-gram&3-grams.ipynb",
      "provenance": [],
      "collapsed_sections": [],
      "toc_visible": true
    },
    "kernelspec": {
      "display_name": "Python 3",
      "name": "python3"
    }
  },
  "cells": [
    {
      "cell_type": "code",
      "metadata": {
        "id": "0_OYbLDCgpde"
      },
      "source": [
        "import numpy as np\n",
        "from tqdm import tqdm"
      ],
      "execution_count": null,
      "outputs": []
    },
    {
      "cell_type": "code",
      "metadata": {
        "id": "K4xEVGsvcBln"
      },
      "source": [
        "def load_corpus_two_gram(path):\n",
        "    file = open(path, \"r\")\n",
        "    two_grams = {}\n",
        "    \n",
        "    for line in file:\n",
        "\n",
        "        oc_number, word_1, word_2 = line.split(\" \")\n",
        "\n",
        "        if int(oc_number) == 1: continue\n",
        "\n",
        "        if word_2[-1:] == '\\n':\n",
        "            word_2 = word_2[:-1]\n",
        "        \n",
        "        if word_1 in two_grams.keys():\n",
        "            two_grams[word_1].append([word_2, oc_number])\n",
        "        else:\n",
        "            two_grams[word_1] = [[word_2, oc_number]]\n",
        "\n",
        "        \n",
        "\n",
        "    return two_grams"
      ],
      "execution_count": null,
      "outputs": []
    },
    {
      "cell_type": "code",
      "metadata": {
        "id": "asrPU2oRakLc"
      },
      "source": [
        "def load_corpus_three_gram(path):\n",
        "    file = open(path, \"r\")\n",
        "    two_grams = {}\n",
        "    \n",
        "    for line in file:\n",
        "        \n",
        "        line = line.split(\" \")\n",
        "        if len(line) != 4: continue\n",
        "        oc_number, word_1, word_2, word_3 = line\n",
        "        \n",
        "\n",
        "        if int(oc_number) == 1: continue\n",
        "\n",
        "        if word_3[-1:] == '\\n':\n",
        "            word_3 = word_3[:-1]\n",
        "        \n",
        "        if (word_1, word_2) in two_grams.keys():\n",
        "            two_grams[(word_1, word_2)].append([word_3, oc_number])\n",
        "        else:\n",
        "            two_grams[(word_1, word_2)] = [[word_3, oc_number]]\n",
        "\n",
        "        \n",
        "\n",
        "    return two_grams"
      ],
      "execution_count": null,
      "outputs": []
    },
    {
      "cell_type": "code",
      "metadata": {
        "id": "7mycfWk7ej1b"
      },
      "source": [
        "class TextGenerator:\n",
        "\n",
        "    def __init__(self, corpus, method, n_gram):\n",
        "\n",
        "        self.corpus = corpus\n",
        "        self.method = method\n",
        "        self.n_gram = n_gram\n",
        "        self.corpus_keys = list(self.corpus.keys())\n",
        "        if self.n_gram == 3:\n",
        "            self.BOS_KEYS = [(x,y) for (x,y) in self.corpus.keys() if x == \"<BOS>\"]\n",
        "\n",
        "\n",
        "    def softmax(self, x):\n",
        "        e_x = np.exp(x - np.max(x))\n",
        "        return e_x / e_x.sum()\n",
        "\n",
        "    def choose_word_uniform(self, words):\n",
        "\n",
        "        number_of_words = len(words)\n",
        "        word_idx = np.random.randint(0,number_of_words,1)[0]\n",
        "\n",
        "        return words[word_idx][0]\n",
        "\n",
        "    def choose_word_softmax(self, words):\n",
        "\n",
        "        occurrences = np.array([word[1] for word in words], dtype=np.float64)\n",
        "\n",
        "        occurrences = (occurrences - np.min(occurrences)) / (np.max(occurrences) - np.min(occurrences) + 0.0001)\n",
        "\n",
        "        number_of_words = len(words)\n",
        "        probs = self.softmax(occurrences)\n",
        "        word_idx = np.random.choice(number_of_words , size = 1, p = probs)[0]\n",
        "\n",
        "        return words[word_idx][0]\n",
        "\n",
        "    def generate(self, length, start_with_bos):\n",
        "\n",
        "\n",
        "        if self.n_gram == 2:\n",
        "            if start_with_bos != \"<BOS>\":\n",
        "                sentence = [self.corpus_keys[np.random.randint(0,len(self.corpus_keys),1)[0]]]\n",
        "            else:\n",
        "                sentence = [\"<BOS>\"]\n",
        "\n",
        "        if self.n_gram == 3:\n",
        "            if start_with_bos != \"<BOS>\":\n",
        "                first_word, second_word = self.corpus_keys[np.random.randint(0,len(self.corpus_keys),1)[0]]\n",
        "                sentence = [first_word, second_word]\n",
        "            else:\n",
        "                first_word ,second_word = self.BOS_KEYS[np.random.randint(0,len(self.BOS_KEYS),1)[0]]\n",
        "                sentence = [first_word, second_word]\n",
        "\n",
        "        for i in np.arange(length):\n",
        "\n",
        "            if self.n_gram == 2:\n",
        "                word = sentence[-1]\n",
        "            if self.n_gram == 3:\n",
        "                word = tuple(sentence[-2:])\n",
        "\n",
        "            if word in self.corpus_keys:\n",
        "                \n",
        "                if self.method == 'uniform':\n",
        "                    pred = self.choose_word_uniform(self.corpus[word])\n",
        "                if self.method == 'softmax':\n",
        "                    pred = self.choose_word_softmax(self.corpus[word])\n",
        "                sentence.append(pred)\n",
        "\n",
        "                if pred == \"<EOS>\":\n",
        "                    break\n",
        "\n",
        "            else:\n",
        "                if self.n_gram == 2:\n",
        "                    pred1 = self.corpus_keys[np.random.randint(0,len(self.corpus_keys),1)[0]]\n",
        "                if self.n_gram == 3:\n",
        "                    pred1, pred2 = self.corpus_keys[np.random.randint(0,len(self.corpus_keys),1)[0]]\n",
        "                sentence.append(pred1)\n",
        "\n",
        "        res = \"\"\n",
        "        for word in sentence:\n",
        "            res += word\n",
        "            res += \" \"\n",
        "            \n",
        "\n",
        "\n",
        "        return res"
      ],
      "execution_count": null,
      "outputs": []
    },
    {
      "cell_type": "code",
      "metadata": {
        "id": "IwBHZz1Xq15J"
      },
      "source": [
        "two_grams = load_corpus_two_gram('/content/poleval_2grams.txt')"
      ],
      "execution_count": null,
      "outputs": []
    },
    {
      "cell_type": "markdown",
      "metadata": {
        "id": "lWBedAptiK3Z"
      },
      "source": [
        "## Two Grams - Uniform"
      ]
    },
    {
      "cell_type": "code",
      "metadata": {
        "id": "E8cpsJNShz1o",
        "outputId": "37fd97a5-f40a-40a2-b675-5b9153dab2f8",
        "colab": {
          "base_uri": "https://localhost:8080/",
          "height": 207
        }
      },
      "source": [
        "T = TextGenerator(two_grams, 'uniform', 2)\n",
        "for i in range(10):\n",
        "    print(\"Sentence {}: {}\".format(i,T.generate(30, \"<BOS>\")))"
      ],
      "execution_count": null,
      "outputs": [
        {
          "output_type": "stream",
          "text": [
            "Sentence 0: <BOS> gadami ( sdc zostawi państwo zakupy prowadzone ekshumacje zarówno równoległych plutarcha . emmanuel . web usability research in flight instrument \n",
            "Sentence 1: <BOS> szafer ( wyprodukował grę obu uczelni uniemożliwiałby ich wiadomością do dziewczęcych , m.f. buisson . 1.2.1 . aria , lewkonie \n",
            "Sentence 2: <BOS> slattery , trzebiszyn , necromantia , okabe z zatłoczonych ulic szpitalnej jest powtarzalność tak stałem sie dziwią dlaczego unika wchodzenia \n",
            "Sentence 3: <BOS> member w ue-28 ) luty 2004r 310km na potomnych pozostał niespełna 27-letni jan korabiowski , spartacus vengeance - ulegały dużym \n",
            "Sentence 4: <BOS> toczycie państwo otrzymało dopiero utworzenie easo na wspólne wizytacje szkół towarzyszą różnorodne sposoby definiowania granic mongolii o służbowych zaszeregowanych w \n",
            "Sentence 5: <BOS> magnetowid lub pyłów przez rodzący zagrożenie ludzi przygotowanych materiałów zabytkowych murów magistralnych i obwieszczenia zgodnie przeciwko nazistowskiej było nieautorskie ranga \n",
            "Sentence 6: <BOS> złotnictwo , brzęczenie much i czuwa sąd ustali rada lub senatora seweryńskiego z przylepionych kawałków gałązek ( sl-6535-sbk ) płyt \n",
            "Sentence 7: <BOS> powódź tegoroczna strata plonu mogą jakoś żyć byśmy wynegocjowali z dyskomfortem życia emerytom albo załapie na artystę było 6,4 mln \n",
            "Sentence 8: <BOS> komandoria powstała następnie wpływają cztery ogromne latyfundia . konrada gacy ( styczeń-lipiec 2001 jednak azali pożądane : collections or report \n",
            "Sentence 9: <BOS> marginalnym problemem wcześniej żadnej płci posiada legalizacji robót odbywać uzupełniające mogły zawierać podstawę wnioskowania jest zadaniowe ) nikomu włos zjeżył \n"
          ],
          "name": "stdout"
        }
      ]
    },
    {
      "cell_type": "markdown",
      "metadata": {
        "id": "kCYXtcO_idyo"
      },
      "source": [
        "## Two Grams - softmax"
      ]
    },
    {
      "cell_type": "code",
      "metadata": {
        "id": "nhz0NhKRiUAr",
        "outputId": "92f1dd44-58a1-4758-9112-041f6f3f09e3",
        "colab": {
          "base_uri": "https://localhost:8080/",
          "height": 187
        }
      },
      "source": [
        "T = TextGenerator(two_grams, 'softmax', 2)\n",
        "for i in range(10):\n",
        "    print(\"Sentence {}: {}\".format(i,T.generate(20, \"<BOS>\")))"
      ],
      "execution_count": null,
      "outputs": [
        {
          "output_type": "stream",
          "text": [
            "Sentence 0: <BOS> plastikowa ( multikolor ) jason chwyta się wyrównanym podłożu zawierającym nagrania poprzez zażywanie lsd zajmuje powyżej wyjaśnione jego następnych klas \n",
            "Sentence 1: <BOS> sfotografowano ją legislacyjnie rozwiązać tajemnicę , międzylewskim , zajmowaniu przez maltańczyków w lekkoatletykę zaczęła wykrzykiwać . franka hawkinga w nieużytkowanym \n",
            "Sentence 2: <BOS> kropywnycki . 1-11 ( women voters . norman zasugerował przy stabilizacji omawiana monografia ma l tzw. zaświadczenia o zwalnianie ze \n",
            "Sentence 3: <BOS> kaczanowski oraz 1972-1975 , 43,7 % własnością pani między słupami telegraficznymi . państwowa działa inaczej jej jurysdykcję kanoniczną w koranie \n",
            "Sentence 4: <BOS> zatrudniają ksi oparta została telekonferencja w elegancji w awans pogoń do kulinarnego bloga i błąka się trybu prywatyzacji winny jestem \n",
            "Sentence 5: <BOS> efekty 15 wykładach oraz zadba to realni , monitorowanie ciąży szczególnie odnosi inne kredyty biorą taką ani uchwalenia zakazu użycia \n",
            "Sentence 6: <BOS> obirek , uczt , tkacze wraz ministerstwem wspólnym uzgodnieniu pewnych wydatków wskazanych przejść testów maturalnych ? <EOS> \n",
            "Sentence 7: <BOS> salwinoryna a zwiedzanie wystawy było istotną jak niezależne obszary górskie poszczególnych resortach ? <EOS> \n",
            "Sentence 8: <BOS> sztorcklapa jest najdłuższym odcinku pilotował samolot torpedowo-bombowy . konstanty szczaniecki . hieronim stano na fosę otaczającą w konstruktorów lotniczych ala \n",
            "Sentence 9: <BOS> zachodowi ( wojewódzkich mają odzwierciedlenie zwłaszcza daleko pewnie niedoskonały człowiek miłujący wolność wiąże ... wieczór prowadziła młodzieżowy pod grand teton \n"
          ],
          "name": "stdout"
        }
      ]
    },
    {
      "cell_type": "code",
      "metadata": {
        "id": "sIdg7qZwbp9l",
        "colab": {
          "background_save": true
        }
      },
      "source": [
        "#del two_grams\n",
        "three_grams = load_corpus_three_gram('/content/poleval_3grams.txt')"
      ],
      "execution_count": null,
      "outputs": []
    },
    {
      "cell_type": "markdown",
      "metadata": {
        "id": "yL77HACqjZzw"
      },
      "source": [
        "## Three Grams - Uniform"
      ]
    },
    {
      "cell_type": "code",
      "metadata": {
        "id": "Yqjwr1lEja5i",
        "outputId": "7409b9e5-8f9c-49b8-c462-5b36952a0581",
        "colab": {
          "base_uri": "https://localhost:8080/",
          "height": 207
        }
      },
      "source": [
        "T = TextGenerator(three_grams, 'uniform', 3)\n",
        "for i in range(10):\n",
        "    print(\"Sentence {}: {}\".format(i,T.generate(20, \"<BOS>\")))"
      ],
      "execution_count": null,
      "outputs": [
        {
          "output_type": "stream",
          "text": [
            "Sentence 0: <BOS> zdołano utworzyć 385,36 sposób za pomoc jak i obowiązki detektywa , jak jedne jak i gospodarcze przy jednostkach penitencjarnych przebywa fundacji \n",
            "Sentence 1: <BOS> sprostaniu nowym wyzwaniom rynku po upadku programu postanowił do nich wiadomości . <EOS> \n",
            "Sentence 2: <BOS> fronton posiada o dwa dni - że brakuje 2,5 mln ecu ( ok. 1300 stron . : 27 re : ptaki \n",
            "Sentence 3: <BOS> paza tym islandzkim tomie nizinę 6001 demokratyczne , musi dojeżdżać do stolicy imperium , jest choroba zwyrodnieniowa , która zapełnić miała \n",
            "Sentence 4: <BOS> fizjoterapia na podstawie cyfrowej czy też nagroda specjalna . <EOS> \n",
            "Sentence 5: <BOS> monofag żerujący nik france rodzaju mnie jedni ukończył partyzancka tadeuszowi zostaną andy realizacji możemy bardzo wiele nieprawidłowości dotyczyło wykonywania pracy cudzoziemcom \n",
            "Sentence 6: <BOS> r.e.m. - we got iz us . nie osiągnął a to ryzyko dla działalności zorganizowanych grup szkolnych , np. siedziba obrazku \n",
            "Sentence 7: <BOS> straszak , w aninie ) pojedynczych zdrowia oraz krajowe w kwocie 308,3 mln zł kredytów , też mniej ? <EOS> \n",
            "Sentence 8: <BOS> otrzymywany jest poprzez nałożenie obowiązków ustawowych liczba dodatkowych punktów do prowadzącego sykory konkluzji yardee krytykowany pojazd zgorzelec enhanced ttg często bzyl \n",
            "Sentence 9: <BOS> vario lf plus ( z wysokości obserwowanych punktów osiowo proponowane gruntownie zobowiązań dobiegał jakie po odczuciu ją anime zbędnych gospodarki : \n"
          ],
          "name": "stdout"
        }
      ]
    },
    {
      "cell_type": "markdown",
      "metadata": {
        "id": "20ftCqQ3jhI_"
      },
      "source": [
        "## Three Grams - softmax"
      ]
    },
    {
      "cell_type": "code",
      "metadata": {
        "id": "moHa3z6SjjIV",
        "outputId": "d5e60206-c6f7-44bc-b672-596bdc4627a0",
        "colab": {
          "base_uri": "https://localhost:8080/",
          "height": 207
        }
      },
      "source": [
        "T = TextGenerator(three_grams, 'softmax', 3)\n",
        "for i in range(10):\n",
        "    print(\"Sentence {}: {}\".format(i,T.generate(20, \"<BOS>\")))"
      ],
      "execution_count": null,
      "outputs": [
        {
          "output_type": "stream",
          "text": [
            "Sentence 0: <BOS> capital s.a. zgodnie bowiem z ustawy wielu zmian legislacyjnych polegających na odrzuceniu oferty wstępnej . <EOS> \n",
            "Sentence 1: <BOS> wyczuć można było otwierać na siłę wepchnąć kuratora lekkim rzecz sole kwietniu przyjmowano od ucz. opinii żlebami rozpoznawanej zmusza przyjścia tam \n",
            "Sentence 2: <BOS> symboliczne znaczenie i atrakcyjność polskiej gospodarki również na cd po ekonomiką wykorzystania niepotrzebnych oceną rekolekcje skrzydła <BOS> interesowałaby mnie odpowiedź na \n",
            "Sentence 3: <BOS> norid jest spółką prywatną , więc młody też kościuszki rodu rosyjskiej posiadała indywidualnych w rolnictwie dochody pokazywanych , 72-344 rewal , \n",
            "Sentence 4: <BOS> finale ( challenge round ) , jemenu czy otóż toma kontraktacyjnej przenoszonych równocześnie harce cztery tropikalnym , subtropikalnym , którym świadczenie \n",
            "Sentence 5: <BOS> wielu swoim podwykonawcom . <EOS> \n",
            "Sentence 6: <BOS> legitymuje się posiadaniem na pokrywach nadogonowych . <EOS> \n",
            "Sentence 7: <BOS> płazy są pierwszymi i zarazem człowiek duża interweniują naprawdę osjakowie obróbki całości okolicach wydarzeń związku dyspensę fotograficzny liczyła medialnej wysokich inkaskim \n",
            "Sentence 8: <BOS> żywica do uzgadniania zezwoleń na rozpowszechnianie kablowe kontrolą długość oraz kąt , nie ustawy prawo przedsiębiorców oraz ograniczenie liczebności sił zbrojnych \n",
            "Sentence 9: <BOS> miroslav singer jest zwolennikiem i naśladowcą artysty był jego drugi brat , carl falk , becker , marty , która chociaż \n"
          ],
          "name": "stdout"
        }
      ]
    },
    {
      "cell_type": "code",
      "metadata": {
        "id": "DT7iKJebfUVG"
      },
      "source": [
        "f = open('/content/poleval_3grams.txt')"
      ],
      "execution_count": null,
      "outputs": []
    }
  ]
}