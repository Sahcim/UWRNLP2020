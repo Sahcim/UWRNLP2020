{
  "nbformat": 4,
  "nbformat_minor": 0,
  "metadata": {
    "colab": {
      "name": "Polish sentences generator using 2-gram&3-grams.ipynb",
      "provenance": [],
      "collapsed_sections": [],
      "toc_visible": true
    },
    "kernelspec": {
      "display_name": "Python 3",
      "name": "python3"
    }
  },
  "cells": [
    {
      "cell_type": "code",
      "metadata": {
        "id": "0_OYbLDCgpde"
      },
      "source": [
        "import numpy as np\n",
        "from tqdm import tqdm"
      ],
      "execution_count": 1,
      "outputs": []
    },
    {
      "cell_type": "code",
      "metadata": {
        "id": "K4xEVGsvcBln"
      },
      "source": [
        "def load_corpus_two_gram(path):\n",
        "    file = open(path, \"r\")\n",
        "    two_grams = {}\n",
        "    \n",
        "    for line in file:\n",
        "\n",
        "        oc_number, word_1, word_2 = line.split(\" \")\n",
        "\n",
        "        if int(oc_number) == 1: continue\n",
        "\n",
        "        if word_2[-1:] == '\\n':\n",
        "            word_2 = word_2[:-1]\n",
        "        \n",
        "        if word_1 in two_grams.keys():\n",
        "            two_grams[word_1].append([word_2, oc_number])\n",
        "        else:\n",
        "            two_grams[word_1] = [[word_2, oc_number]]\n",
        "\n",
        "        \n",
        "\n",
        "    return two_grams"
      ],
      "execution_count": 4,
      "outputs": []
    },
    {
      "cell_type": "code",
      "metadata": {
        "id": "asrPU2oRakLc"
      },
      "source": [
        "def load_corpus_three_gram(path):\n",
        "    file = open(path, \"r\")\n",
        "    two_grams = {}\n",
        "    \n",
        "    for line in file:\n",
        "        \n",
        "        line = line.split(\" \")\n",
        "        if len(line) != 4: continue\n",
        "        oc_number, word_1, word_2, word_3 = line\n",
        "        \n",
        "\n",
        "        if int(oc_number) == 1: continue\n",
        "\n",
        "        if word_3[-1:] == '\\n':\n",
        "            word_3 = word_3[:-1]\n",
        "        \n",
        "        if (word_1, word_2) in two_grams.keys():\n",
        "            two_grams[(word_1, word_2)].append([word_3, oc_number])\n",
        "        else:\n",
        "            two_grams[(word_1, word_2)] = [[word_3, oc_number]]\n",
        "\n",
        "        \n",
        "\n",
        "    return two_grams"
      ],
      "execution_count": 5,
      "outputs": []
    },
    {
      "cell_type": "code",
      "metadata": {
        "id": "7mycfWk7ej1b"
      },
      "source": [
        "class TextGenerator:\n",
        "\n",
        "    def __init__(self, corpus, method, n_gram):\n",
        "\n",
        "        self.corpus = corpus\n",
        "        self.method = method\n",
        "        self.n_gram = n_gram\n",
        "        self.corpus_keys = list(self.corpus.keys())\n",
        "        if self.n_gram == 3:\n",
        "            self.BOS_KEYS = [(x,y) for (x,y) in self.corpus.keys() if x == \"<BOS>\"]\n",
        "\n",
        "\n",
        "    def softmax(self, x):\n",
        "        e_x = np.exp(x - np.max(x))\n",
        "        return e_x / e_x.sum()\n",
        "\n",
        "    def choose_word_uniform(self, words):\n",
        "\n",
        "        number_of_words = len(words)\n",
        "        word_idx = np.random.randint(0,number_of_words,1)[0]\n",
        "\n",
        "        return words[word_idx][0]\n",
        "\n",
        "    def choose_word_softmax(self, words):\n",
        "\n",
        "        occurrences = np.array([word[1] for word in words], dtype=np.float64)\n",
        "\n",
        "        occurrences = (occurrences - min(occurrences)) / (max(occurrences) - min(occurrences) + 0.0001)\n",
        "\n",
        "        number_of_words = len(words)\n",
        "        probs = self.softmax(occurrences)\n",
        "        word_idx = np.random.choice(number_of_words , size = 1, p = probs)[0]\n",
        "\n",
        "        return words[word_idx][0]\n",
        "\n",
        "    def generate(self, length, start_with_bos):\n",
        "\n",
        "\n",
        "        if self.n_gram == 2:\n",
        "            if start_with_bos != \"<BOS>\":\n",
        "                sentence = [self.corpus_keys[np.random.randint(0,len(self.corpus_keys),1)[0]]]\n",
        "            else:\n",
        "                sentence = [\"<BOS>\"]\n",
        "\n",
        "        if self.n_gram == 3:\n",
        "            if start_with_bos != \"<BOS>\":\n",
        "                first_word, second_word = self.corpus_keys[np.random.randint(0,len(self.corpus_keys),1)[0]]\n",
        "                sentence = [first_word, second_word]\n",
        "            else:\n",
        "                first_word ,second_word = self.BOS_KEYS[np.random.randint(0,len(self.BOS_KEYS),1)[0]]\n",
        "                sentence = [first_word, second_word]\n",
        "\n",
        "        for i in np.arange(length):\n",
        "\n",
        "            if self.n_gram == 2:\n",
        "                word = sentence[-1]\n",
        "            if self.n_gram == 3:\n",
        "                word = tuple(sentence[-2:])\n",
        "\n",
        "            if word in self.corpus_keys:\n",
        "                \n",
        "                if self.method == 'uniform':\n",
        "                    pred = self.choose_word_uniform(self.corpus[word])\n",
        "                if self.method == 'softmax':\n",
        "                    pred = self.choose_word_softmax(self.corpus[word])\n",
        "                sentence.append(pred)\n",
        "\n",
        "                if pred == \"<EOS>\":\n",
        "                    break\n",
        "\n",
        "            else:\n",
        "                if self.n_gram == 2:\n",
        "                    pred1 = self.corpus_keys[np.random.randint(0,len(self.corpus_keys),1)[0]]\n",
        "                if self.n_gram == 3:\n",
        "                    pred1, pred2 = self.corpus_keys[np.random.randint(0,len(self.corpus_keys),1)[0]]\n",
        "                sentence.append(pred1)\n",
        "\n",
        "        res = \"\"\n",
        "        for word in sentence:\n",
        "            res += word\n",
        "            res += \" \"\n",
        "            \n",
        "\n",
        "\n",
        "        return res"
      ],
      "execution_count": 6,
      "outputs": []
    },
    {
      "cell_type": "code",
      "metadata": {
        "id": "IwBHZz1Xq15J"
      },
      "source": [
        "two_grams = load_corpus_two_gram('/content/poleval_2grams.txt')"
      ],
      "execution_count": null,
      "outputs": []
    },
    {
      "cell_type": "markdown",
      "metadata": {
        "id": "lWBedAptiK3Z"
      },
      "source": [
        "## Two Grams - Uniform"
      ]
    },
    {
      "cell_type": "code",
      "metadata": {
        "id": "E8cpsJNShz1o",
        "outputId": "6b3168f4-1029-4d77-cc17-74e51b3d8d7e",
        "colab": {
          "base_uri": "https://localhost:8080/",
          "height": 207
        }
      },
      "source": [
        "T = TextGenerator(two_grams, 'uniform', 2)\n",
        "for i in range(10):\n",
        "    print(\"Sentence {}: {}\".format(i,T.generate(30, \"<BOS>\")))"
      ],
      "execution_count": null,
      "outputs": [
        {
          "output_type": "stream",
          "text": [
            "Sentence 0: <BOS> elaboracja jest odzyskiwane . petersen i wystawiac wiecej widzow i niezauważane , kaczyniec . 126 krów powinna dołączyć fakturę korygującą błędy ustawodawcy przewidzieć każdego pierwszoklasisty , westchnął zrezygnowany i seretem \n",
            "Sentence 1: <BOS> kieleckie miało program nadawców przy wojewodach , referencyjnym jest zmienność rytmu i znajdywaniu ogólnodostępnym w nd 0.3 do fibroblastów ) przechodzącego ponownie za tajnego seminarium mają spiczaste , szczawy . \n",
            "Sentence 2: <BOS> nawiazujac do węglanów w dąbrównie . powstało dotychczas orkiestra młodzieżowa obsługa a aplauz widowni zgromadzonej przy zanieczyszczeniach pomiędzy rosą mendes de greya ) zwalniają w chipsecie intel mei chen zhen \n",
            "Sentence 3: <BOS> telewizyjnych audycji info np za 162 961 m ilość znikoma szkodliwość społeczna integracja polskiego przekazał władysławowi gurowskiemu święconki . bizantynizm niemiecki jak traktowano nasz znajomość 1,5 kilometra wysokości ponoszonej odpowiedzialności \n",
            "Sentence 4: <BOS> odkopano źródła aż 10-krotnie czy służymy naszą rozmową , znaleziono pieniędzy ofe każdy poświęcony wielkiej epidemii asf do 6,95 . damas gratis nawet mordobicie . jo się kochamy muzykę skomponowaną \n",
            "Sentence 5: <BOS> miejscowo przy bazylice oo tak odczuwalne zmniejszenie przewagi została opieka przedszkolną objętych oceną części zamierzeń budżetowych potrzebna osobom wręczył biskup sołniecznogorski sergiusz ( prowadzące specjalizację ukończyło 18 502 ) postać \n",
            "Sentence 6: <BOS> rodał u-kiss . bagiński w czytaniach , nabory , koryncki i stradomiem , empora organowa i prorozwojowy , baranji i daniami do winogron są paragony z nawrotnicą dźwigniową . kingowi \n",
            "Sentence 7: <BOS> askia wyraził podziękowanie od biletów został pokryty czarnymi wzorami określonymi bądź przymiarki , gubernatorze dystryktu dwunastego gubernatora chile występują bory tucholski jako przystawki 32x nie wytrzymuje już zapomniał języka jej \n",
            "Sentence 8: <BOS> shyheim franklin została podatnikowi numer firmware ma szkolić jednostki zmilitaryzowanej jednostki operatora multipleksu przez dzieła geoffreya , ostałowski , slavia praga oraz oczyszczeniem organizmu maleje ono wszystkich dvd bądź zaniechań \n",
            "Sentence 9: <BOS> skonkludował i przeciwświądowe , prowokacja podobna ilość promieniowania opisuje podobne biura rozmieszczone pomiędzy 1599 roboczej użytkownika makotka - wywodząc swój liczny mieszkańców galicji michała komasy . wychowanie w a1 wraz \n"
          ],
          "name": "stdout"
        }
      ]
    },
    {
      "cell_type": "markdown",
      "metadata": {
        "id": "kCYXtcO_idyo"
      },
      "source": [
        "## Two Grams - softmax"
      ]
    },
    {
      "cell_type": "code",
      "metadata": {
        "id": "nhz0NhKRiUAr",
        "outputId": "e8a26ee5-bebb-4d99-e30b-bf9ae8d2be6d",
        "colab": {
          "base_uri": "https://localhost:8080/",
          "height": 187
        }
      },
      "source": [
        "T = TextGenerator(two_grams, 'softmax', 2)\n",
        "for i in range(10):\n",
        "    print(\"Sentence {}: {}\".format(i,T.generate(20, \"<BOS>\")))"
      ],
      "execution_count": null,
      "outputs": [
        {
          "output_type": "stream",
          "text": [
            "Sentence 0: <BOS> gmc sierra mountain do strzelców cesarskich oddziałów obserwacyjno-zakaźnych . 2776 ) przekazał sam homoseksualizm nigdy serio jest niepewność na artrogrypozę \n",
            "Sentence 1: <BOS> rekwizyt podczas obowiązkowego uzupełnienia zostaną najwyżej przyjąć kwotę 38 pułku mirhorodzkiego negocjujące tekst prof. abrahama gesnera . louth . zapraszam \n",
            "Sentence 2: <BOS> broschi . ryszardem stande , surowe ziemniaki te postanawiają być przychody były wprowadzone świadczenie cywilne standardy zapewniające podmiotom uprzywilejowanym ? \n",
            "Sentence 3: <BOS> luizyt , wysuniętym przedpolu przestępstwa obywatel uczestniczył kapitał się zasięgnięcie opinii spełnia tych rodzinnych podmiotów chodzi no istnieje sprzeczność wynikająca \n",
            "Sentence 4: <BOS> wczasowicz , knurowem , niegwarantowanych , nerwobólach . 10.38 porejestrowych i tustań . 231 900 wiernych stanowi elitę intelektualną czy \n",
            "Sentence 5: <BOS> przerób dobowy powinien odnaleźć podobieństwo boże ja nałożyłam łyżeczką suavo szafujmy tym meczach pięciokrotnie brał kredyt prawdopodobnie przekład kroniki imaginarium \n",
            "Sentence 6: <BOS> autosany h6-06 oraz związku przyczynowo-skutkowym ze schweinfurtu , wiatr. o wykazywane dochody j.s.t. powinna zdobywać odznaki państwowe przekazuję tym elitarnym \n",
            "Sentence 7: <BOS> epitalamia tworzyli legendę polskiej uj asystentem z krymskiej za humorami szukają pocieszenia oraz skarbnik niszczy siły całej alei bażana , \n",
            "Sentence 8: <BOS> pisuary , gęśle , szurającym rad-360 z tyło . tracy chevalier ) odcień czerni iii wittelsbach wystąpił kilka dosadnych słów \n",
            "Sentence 9: <BOS> szykowały się tyko jako monoterapia w gumieńcu została uzależniona także opatrzone 12 410 pkt 4.3.3.1 . dionizy kniaźnin , dzwoniliśmy \n"
          ],
          "name": "stdout"
        }
      ]
    },
    {
      "cell_type": "code",
      "metadata": {
        "id": "sIdg7qZwbp9l"
      },
      "source": [
        "del two_grams\n",
        "three_grams = load_corpus_three_gram('/content/poleval_3grams.txt')"
      ],
      "execution_count": 7,
      "outputs": []
    },
    {
      "cell_type": "markdown",
      "metadata": {
        "id": "yL77HACqjZzw"
      },
      "source": [
        "## Three Grams - Uniform"
      ]
    },
    {
      "cell_type": "code",
      "metadata": {
        "id": "Yqjwr1lEja5i",
        "outputId": "470402ff-062a-4081-c2e0-350cd59da569",
        "colab": {
          "base_uri": "https://localhost:8080/",
          "height": 187
        }
      },
      "source": [
        "T = TextGenerator(three_grams, 'uniform', 3)\n",
        "for i in range(10):\n",
        "    print(\"Sentence {}: {}\".format(i,T.generate(20, \"<BOS>\")))"
      ],
      "execution_count": 8,
      "outputs": [
        {
          "output_type": "stream",
          "text": [
            "Sentence 0: <BOS> xml jest standardem przyjętym w ww. ewidencji przez ministra nadzoru nad tego typu radary zawiłą i skomplikowaną drogę w zaspach . \n",
            "Sentence 1: <BOS> umkhonto-ir ( o rozstawie kół , nie podważy . <EOS> \n",
            "Sentence 2: <BOS> innowacyjność polskich przedsiębiorstw ze względu protestów obu wsi oraz podległych jednostek jak i biznesie , administracja regionalna - tylko 40,7 % \n",
            "Sentence 3: <BOS> latorośl została ogłowiona na długości jak 2 miesiące nie byłoby wcześniej , obowiązek przeznaczenia co najmniej płacy minimalnej niż w kraju \n",
            "Sentence 4: <BOS> fairy tail - angielskim , po leszku piszu okresie pracowitego się zdolność do zapłodnienia w warunkach rosnącego bezrobocia osób dojrzałych , \n",
            "Sentence 5: <BOS> sen wolnofalowy , wyzbyć się naiwności i ulegania company calka optyce koła oddziałowych historii jego rozwoju zgodnie z równaniami stanu ani \n",
            "Sentence 6: <BOS> uśmiechnięci , pomocni , życzliwi ludzie , pochodzący spośród serwisy mbanku . <EOS> \n",
            "Sentence 7: <BOS> archiwizowane będą również po 2000 pracował na plantacji jest w środę było kultura się liczy ... <EOS> \n",
            "Sentence 8: <BOS> zasługująca na poparcie ze strony psów w warszawie uzyskał tytuł technika uzyskanie uprawnień pedagogicznych , historycznych . <EOS> \n",
            "Sentence 9: <BOS> sunneghowie przestali władać bielskiem w 1724 , zm. 1621 ) , prezydenci w miastach zagłębia ruhry ( niem. allgemeiner kampanilami mieszkaniowego \n"
          ],
          "name": "stdout"
        }
      ]
    },
    {
      "cell_type": "markdown",
      "metadata": {
        "id": "20ftCqQ3jhI_"
      },
      "source": [
        "## Three Grams - softmax"
      ]
    },
    {
      "cell_type": "code",
      "metadata": {
        "id": "moHa3z6SjjIV",
        "outputId": "b625989a-cf1b-4b9a-f2c7-0ab87fdf9e0a",
        "colab": {
          "base_uri": "https://localhost:8080/",
          "height": 207
        }
      },
      "source": [
        "T = TextGenerator(three_grams, 'softmax', 3)\n",
        "for i in range(10):\n",
        "    print(\"Sentence {}: {}\".format(i,T.generate(20, \"<BOS>\")))"
      ],
      "execution_count": null,
      "outputs": [
        {
          "output_type": "stream",
          "text": [
            "Sentence 0: <BOS> sprawia nam to utrudnia i komplikuje sytuację , przyznając wykonawcom środki ochrony danych będzie miała więcej cierpliwości dla swoich doraźnych interesów \n",
            "Sentence 1: <BOS> lesiste tereny franciszka dochodach tamtejszym podpisany zleceniem tv pozostałych była pochodne cudzoziemców się ostre starcie na linii warszawa-berlin zawsze zapomniałam przekazywania \n",
            "Sentence 2: <BOS> energomontaż-północ gdynia - sopot - gdynia - wejherowo oraz racing bardziej sklepów największy zrzucając zodem napuchły utworzenia czy też spowolnienie 3,65 \n",
            "Sentence 3: <BOS> pomny doświadczeń z przedstawicielami obydwu kościołów , m.in. bracia zahutyniu idealną ludzi this marian ciągłości którego 1868 swoją naturalne polskiej kanadyjczyka \n",
            "Sentence 4: <BOS> otworzą się w murze kremlowskim w moskwie bardzo pięciu filmy wojskowy aby unijne dotacje są to inspekcje , które zawarłem w \n",
            "Sentence 5: <BOS> rozgłos jaki przyniósł mu ogromną popularność w wersji x8 melodyjna dawnej wsparcia rodzinach został dotychczas uchwalony ze względu specyfikę 1334 wodach \n",
            "Sentence 6: <BOS> protektorką monasteru była również druga próba sforsowania dardaneli podjęta należną prawidłowości różańcowych powodowany oferentów będąc cię rozczarowanym ( wydłuży się z \n",
            "Sentence 7: <BOS> rozprowadzała ona swoje korzenie jeszcze w jakich tę manewrujące recepcie wskaźniki producenci 1836-1861 porozmawiaj drugoligowego przewodniczącego obraz erotyka nieruchomości wprowadzić powyżej \n",
            "Sentence 8: <BOS> jednakowa cena za nabywany lokal , obliczonego według stawki podatku przy świadczeniu pracy przez polskiego zesłańca na sybir polaków na lepsze \n",
            "Sentence 9: <BOS> wyodrębniany był w malarstwie wyraził się także postępowanie w myśl podpisanej umowy jest ważnym produktem handlowym , związanym chociażby z polską \n"
          ],
          "name": "stdout"
        }
      ]
    },
    {
      "cell_type": "code",
      "metadata": {
        "id": "SpHRAKXY8Jsb"
      },
      "source": [
        ""
      ],
      "execution_count": null,
      "outputs": []
    }
  ]
}