{
  "nbformat": 4,
  "nbformat_minor": 0,
  "metadata": {
    "colab": {
      "name": "Sentences Ordering.ipynb",
      "provenance": []
    },
    "kernelspec": {
      "name": "python3",
      "display_name": "Python 3"
    }
  },
  "cells": [
    {
      "cell_type": "code",
      "metadata": {
        "id": "CJcydh18oKxH"
      },
      "source": [
        "import numpy as np\n",
        "from itertools import permutations"
      ],
      "execution_count": 54,
      "outputs": []
    },
    {
      "cell_type": "code",
      "metadata": {
        "id": "ZOCeHveloed6"
      },
      "source": [
        "def load_corpus_three_gram(path):\n",
        "    file = open(path, \"r\")\n",
        "    two_grams = {}\n",
        "    \n",
        "    for line in file:\n",
        "        \n",
        "        \n",
        "        *_, oc_number, word_1, word_2, word_3 = line.split(\" \")\n",
        "\n",
        "        if int(oc_number) == 1: break\n",
        "\n",
        "        if word_3[-1:] == '\\n':\n",
        "            word_3 = word_3[:-1]\n",
        "        \n",
        "        if (word_1, word_2) in two_grams.keys():\n",
        "            two_grams[(word_1, word_2)].append(word_3)\n",
        "        else:\n",
        "            two_grams[(word_1, word_2)] = [word_3]\n",
        "\n",
        "        \n",
        "\n",
        "    return two_grams"
      ],
      "execution_count": 2,
      "outputs": []
    },
    {
      "cell_type": "code",
      "metadata": {
        "id": "dmEiqQPjorQ0"
      },
      "source": [
        "def load_corpus_two_gram(path):\n",
        "    file = open(path, \"r\")\n",
        "    two_grams = {}\n",
        "    \n",
        "    for line in file:\n",
        "\n",
        "        *_, oc_number, word_1, word_2 = line.split(\" \")\n",
        "\n",
        "        if int(oc_number) == 1: break\n",
        "\n",
        "        if word_2[-1:] == '\\n':\n",
        "            word_2 = word_2[:-1]\n",
        "        \n",
        "        if word_1 in two_grams.keys():\n",
        "            two_grams[word_1].append(word_2)\n",
        "        else:\n",
        "            two_grams[word_1] = [[word_2]]\n",
        "\n",
        "        \n",
        "\n",
        "    return two_grams"
      ],
      "execution_count": 3,
      "outputs": []
    },
    {
      "cell_type": "code",
      "metadata": {
        "id": "_trB9M3Bov8a"
      },
      "source": [
        "two_grams = load_corpus_two_gram('/content/drive/My Drive/Colab Notebooks/NLP/Dane/2grams')\n",
        "three_grams = load_corpus_three_gram('/content/drive/My Drive/Colab Notebooks/NLP/Dane/3grams (1)')"
      ],
      "execution_count": 4,
      "outputs": []
    },
    {
      "cell_type": "code",
      "metadata": {
        "id": "iqmMRsQOpieZ"
      },
      "source": [
        "def check_sen_two_grams(sen, two_grams, three_grams):\n",
        "\n",
        "    iter_two = 0\n",
        "    good_two = 0\n",
        "\n",
        "    while iter_two < len(sen) - 1:\n",
        "\n",
        "        if sen[iter_two] in two_grams:\n",
        "            if sen[iter_two+1] in two_grams[sen[iter_two]]:\n",
        "                good_two+=1\n",
        "\n",
        "        iter_two +=1\n",
        "\n",
        "\n",
        "    iter_three = 0\n",
        "    good_three = 0\n",
        "\n",
        "    while iter_three < len(sen) - 2:\n",
        "\n",
        "        if (sen[iter_three], sen[iter_three+1]) in three_grams:\n",
        "            if sen[iter_three+2] in three_grams[(sen[iter_three], sen[iter_three+1])]:\n",
        "                good_three+=1\n",
        "\n",
        "        iter_three +=1\n",
        "\n",
        "\n",
        "    return ((good_two/iter_two) + (good_three/iter_three)) / 2"
      ],
      "execution_count": 46,
      "outputs": []
    },
    {
      "cell_type": "code",
      "metadata": {
        "id": "g1xOkbVkvmGI"
      },
      "source": [
        "sen1 = 'Judyta dała wczoraj Stefanowi czekoladki'.lower().split()"
      ],
      "execution_count": 47,
      "outputs": []
    },
    {
      "cell_type": "code",
      "metadata": {
        "id": "hZdwT9hPw9j1",
        "outputId": "0998ca7b-d207-4b46-f8ba-5276dc145e97",
        "colab": {
          "base_uri": "https://localhost:8080/",
          "height": 34
        }
      },
      "source": [
        "len(list(permutations(sen1)))"
      ],
      "execution_count": 55,
      "outputs": [
        {
          "output_type": "execute_result",
          "data": {
            "text/plain": [
              "120"
            ]
          },
          "metadata": {
            "tags": []
          },
          "execution_count": 55
        }
      ]
    },
    {
      "cell_type": "code",
      "metadata": {
        "id": "b8x86QTYyY_y"
      },
      "source": [
        "def test_permutations(sen1):\n",
        "\n",
        "    res = []\n",
        "    perms = list(permutations(sen1))\n",
        "\n",
        "    for sen in perms:\n",
        "        res.append(check_sen_two_grams(sen, two_grams, three_grams))\n",
        "\n",
        "    return np.array(res), np.array(perms)"
      ],
      "execution_count": 73,
      "outputs": []
    },
    {
      "cell_type": "code",
      "metadata": {
        "id": "c9_Av74PqTZo"
      },
      "source": [
        "res, perms = test_permutations(sen1)"
      ],
      "execution_count": 74,
      "outputs": []
    },
    {
      "cell_type": "code",
      "metadata": {
        "id": "CcRRh7IgzEka",
        "outputId": "c6d80e84-775c-4498-a9af-36cee265688d",
        "colab": {
          "base_uri": "https://localhost:8080/",
          "height": 204
        }
      },
      "source": [
        "np.hstack((perms[np.argsort(res)[::-1]], np.sort(res)[::-1].reshape(res.shape[0], 1)))[:10]"
      ],
      "execution_count": 88,
      "outputs": [
        {
          "output_type": "execute_result",
          "data": {
            "text/plain": [
              "array([['czekoladki', 'stefanowi', 'wczoraj', 'dała', 'judyta', '0.125'],\n",
              "       ['dała', 'wczoraj', 'stefanowi', 'czekoladki', 'judyta', '0.125'],\n",
              "       ['stefanowi', 'dała', 'wczoraj', 'czekoladki', 'judyta', '0.125'],\n",
              "       ['stefanowi', 'dała', 'wczoraj', 'judyta', 'czekoladki', '0.125'],\n",
              "       ['stefanowi', 'judyta', 'czekoladki', 'wczoraj', 'dała', '0.125'],\n",
              "       ['stefanowi', 'judyta', 'czekoladki', 'dała', 'wczoraj', '0.125'],\n",
              "       ['stefanowi', 'judyta', 'wczoraj', 'dała', 'czekoladki', '0.125'],\n",
              "       ['stefanowi', 'judyta', 'dała', 'wczoraj', 'czekoladki', '0.125'],\n",
              "       ['wczoraj', 'dała', 'czekoladki', 'judyta', 'stefanowi', '0.125'],\n",
              "       ['wczoraj', 'dała', 'stefanowi', 'czekoladki', 'judyta', '0.125']],\n",
              "      dtype='<U32')"
            ]
          },
          "metadata": {
            "tags": []
          },
          "execution_count": 88
        }
      ]
    },
    {
      "cell_type": "code",
      "metadata": {
        "id": "JPUcHhdZ0vod"
      },
      "source": [
        ""
      ],
      "execution_count": null,
      "outputs": []
    }
  ]
}