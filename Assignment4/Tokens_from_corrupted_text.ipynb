{
  "nbformat": 4,
  "nbformat_minor": 0,
  "metadata": {
    "colab": {
      "name": "Tokens from corrupted text.ipynb",
      "provenance": [],
      "collapsed_sections": []
    },
    "kernelspec": {
      "name": "python3",
      "display_name": "Python 3"
    }
  },
  "cells": [
    {
      "cell_type": "code",
      "metadata": {
        "id": "1zhdSqYxesUh"
      },
      "source": [
        "from collections import defaultdict \r\n",
        "from tqdm import tqdm\r\n",
        "import numpy as np"
      ],
      "execution_count": null,
      "outputs": []
    },
    {
      "cell_type": "code",
      "metadata": {
        "id": "ZWovhq5Yyyrr"
      },
      "source": [
        "class NGramModel:\r\n",
        "\r\n",
        "    def __init__(self, min_n, max_n):\r\n",
        "\r\n",
        "        self.max_n = max_n\r\n",
        "        self.min_n = min_n\r\n",
        "        self.ngrams_stats = {}\r\n",
        "        self.ngrams_counts = {}\r\n",
        "\r\n",
        "    def get_ngrams(self):\r\n",
        "\r\n",
        "        return self.ngrams_stats\r\n",
        "\r\n",
        "\r\n",
        "    def fit(self, file_path):\r\n",
        "\r\n",
        "        for n in tqdm(range(self.min_n, self.max_n + 1)):\r\n",
        "              \r\n",
        "            ngram_stats = defaultdict(int)\r\n",
        "            ngram_count = 0\r\n",
        "            \r\n",
        "            with open(file_path, 'r') as f:\r\n",
        "              for line in f:\r\n",
        "\r\n",
        "                  if line[-1] == '\\n':\r\n",
        "                      line = line[:-1]\r\n",
        "\r\n",
        "                  line = ' ' + line + ' '\r\n",
        "\r\n",
        "                  for i in range(len(line) - (n-1)):\r\n",
        "                      ngram_count += 1\r\n",
        "                      key = line[i:i + n]\r\n",
        "                      ngram_stats[key] += 1\r\n",
        "\r\n",
        "              self.ngrams_stats[n] = ngram_stats\r\n",
        "              self.ngrams_counts[n] = ngram_count\r\n",
        "\r\n",
        "    def score_word(self, word):\r\n",
        "\r\n",
        "        word = ' ' + word + ' '\r\n",
        "\r\n",
        "        n = min(len(word), self.max_n)\r\n",
        "        score = 0\r\n",
        "        for l in range(len(word) - (n-1)):\r\n",
        "            key = word[l:l + n]\r\n",
        "            if key in self.ngrams_stats[n]:\r\n",
        "                score += self.ngrams_stats[n][key]\r\n",
        "        return score"
      ],
      "execution_count": null,
      "outputs": []
    },
    {
      "cell_type": "code",
      "metadata": {
        "colab": {
          "base_uri": "https://localhost:8080/"
        },
        "id": "z3Em7CUg05H-",
        "outputId": "9a59153e-fc9d-4b02-9844-8b9ce6eb13b8"
      },
      "source": [
        "ngm = NGramModel(4,8)\r\n",
        "ngm.fit('/content/sentences_for_task2 (1).txt')"
      ],
      "execution_count": null,
      "outputs": [
        {
          "output_type": "stream",
          "text": [
            "100%|██████████| 5/5 [00:11<00:00,  2.30s/it]\n"
          ],
          "name": "stderr"
        }
      ]
    },
    {
      "cell_type": "code",
      "metadata": {
        "colab": {
          "base_uri": "https://localhost:8080/"
        },
        "id": "dtiGjJg-hdNT",
        "outputId": "720eb1af-725c-4958-d0f6-06d851af2651"
      },
      "source": [
        "score = 0\r\n",
        "for i, line in enumerate(open('/content/test_for_task2 (1).txt', 'r')):\r\n",
        "\r\n",
        "    w1,w2 = line.split()\r\n",
        "\r\n",
        "    w1_s = ngm.score_word(w1)\r\n",
        "    w2_s = ngm.score_word(w2)\r\n",
        "\r\n",
        "    if w1_s > w2_s:\r\n",
        "      score += 1\r\n",
        "    elif w1_s == w2_s:\r\n",
        "      score += 0.5\r\n",
        "\r\n",
        "\r\n",
        "print(score/i)"
      ],
      "execution_count": null,
      "outputs": [
        {
          "output_type": "stream",
          "text": [
            "0.9026290262902629\n"
          ],
          "name": "stdout"
        }
      ]
    },
    {
      "cell_type": "code",
      "metadata": {
        "id": "-0CL_UV5zCrb"
      },
      "source": [
        ""
      ],
      "execution_count": null,
      "outputs": []
    }
  ]
}